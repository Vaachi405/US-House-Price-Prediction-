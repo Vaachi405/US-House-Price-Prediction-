{
 "cells": [
  {
   "cell_type": "code",
   "execution_count": 281,
   "id": "b6032368-153c-46c8-b686-f8f805f3d9f7",
   "metadata": {
    "scrolled": true
   },
   "outputs": [
    {
     "name": "stdout",
     "output_type": "stream",
     "text": [
      "Defaulting to user installation because normal site-packages is not writeable\n",
      "Requirement already satisfied: seaborn in c:\\users\\naveengoel\\appdata\\local\\packages\\pythonsoftwarefoundation.python.3.12_qbz5n2kfra8p0\\localcache\\local-packages\\python312\\site-packages (0.13.2)\n",
      "Requirement already satisfied: numpy!=1.24.0,>=1.20 in c:\\users\\naveengoel\\appdata\\local\\packages\\pythonsoftwarefoundation.python.3.12_qbz5n2kfra8p0\\localcache\\local-packages\\python312\\site-packages (from seaborn) (1.26.3)\n",
      "Requirement already satisfied: pandas>=1.2 in c:\\users\\naveengoel\\appdata\\local\\packages\\pythonsoftwarefoundation.python.3.12_qbz5n2kfra8p0\\localcache\\local-packages\\python312\\site-packages (from seaborn) (2.2.1)\n",
      "Requirement already satisfied: matplotlib!=3.6.1,>=3.4 in c:\\users\\naveengoel\\appdata\\local\\packages\\pythonsoftwarefoundation.python.3.12_qbz5n2kfra8p0\\localcache\\local-packages\\python312\\site-packages (from seaborn) (3.8.3)\n",
      "Requirement already satisfied: contourpy>=1.0.1 in c:\\users\\naveengoel\\appdata\\local\\packages\\pythonsoftwarefoundation.python.3.12_qbz5n2kfra8p0\\localcache\\local-packages\\python312\\site-packages (from matplotlib!=3.6.1,>=3.4->seaborn) (1.2.0)\n",
      "Requirement already satisfied: cycler>=0.10 in c:\\users\\naveengoel\\appdata\\local\\packages\\pythonsoftwarefoundation.python.3.12_qbz5n2kfra8p0\\localcache\\local-packages\\python312\\site-packages (from matplotlib!=3.6.1,>=3.4->seaborn) (0.12.1)\n",
      "Requirement already satisfied: fonttools>=4.22.0 in c:\\users\\naveengoel\\appdata\\local\\packages\\pythonsoftwarefoundation.python.3.12_qbz5n2kfra8p0\\localcache\\local-packages\\python312\\site-packages (from matplotlib!=3.6.1,>=3.4->seaborn) (4.50.0)\n",
      "Requirement already satisfied: kiwisolver>=1.3.1 in c:\\users\\naveengoel\\appdata\\local\\packages\\pythonsoftwarefoundation.python.3.12_qbz5n2kfra8p0\\localcache\\local-packages\\python312\\site-packages (from matplotlib!=3.6.1,>=3.4->seaborn) (1.4.5)\n",
      "Requirement already satisfied: packaging>=20.0 in c:\\users\\naveengoel\\appdata\\local\\packages\\pythonsoftwarefoundation.python.3.12_qbz5n2kfra8p0\\localcache\\local-packages\\python312\\site-packages (from matplotlib!=3.6.1,>=3.4->seaborn) (23.2)\n",
      "Requirement already satisfied: pillow>=8 in c:\\users\\naveengoel\\appdata\\local\\packages\\pythonsoftwarefoundation.python.3.12_qbz5n2kfra8p0\\localcache\\local-packages\\python312\\site-packages (from matplotlib!=3.6.1,>=3.4->seaborn) (10.2.0)\n",
      "Requirement already satisfied: pyparsing>=2.3.1 in c:\\users\\naveengoel\\appdata\\local\\packages\\pythonsoftwarefoundation.python.3.12_qbz5n2kfra8p0\\localcache\\local-packages\\python312\\site-packages (from matplotlib!=3.6.1,>=3.4->seaborn) (3.1.2)\n",
      "Requirement already satisfied: python-dateutil>=2.7 in c:\\users\\naveengoel\\appdata\\local\\packages\\pythonsoftwarefoundation.python.3.12_qbz5n2kfra8p0\\localcache\\local-packages\\python312\\site-packages (from matplotlib!=3.6.1,>=3.4->seaborn) (2.8.2)\n",
      "Requirement already satisfied: pytz>=2020.1 in c:\\users\\naveengoel\\appdata\\local\\packages\\pythonsoftwarefoundation.python.3.12_qbz5n2kfra8p0\\localcache\\local-packages\\python312\\site-packages (from pandas>=1.2->seaborn) (2024.1)\n",
      "Requirement already satisfied: tzdata>=2022.7 in c:\\users\\naveengoel\\appdata\\local\\packages\\pythonsoftwarefoundation.python.3.12_qbz5n2kfra8p0\\localcache\\local-packages\\python312\\site-packages (from pandas>=1.2->seaborn) (2024.1)\n",
      "Requirement already satisfied: six>=1.5 in c:\\users\\naveengoel\\appdata\\local\\packages\\pythonsoftwarefoundation.python.3.12_qbz5n2kfra8p0\\localcache\\local-packages\\python312\\site-packages (from python-dateutil>=2.7->matplotlib!=3.6.1,>=3.4->seaborn) (1.16.0)\n",
      "Defaulting to user installation because normal site-packages is not writeable\n",
      "Requirement already satisfied: scikit-learn in c:\\users\\naveengoel\\appdata\\local\\packages\\pythonsoftwarefoundation.python.3.12_qbz5n2kfra8p0\\localcache\\local-packages\\python312\\site-packages (1.4.1.post1)\n",
      "Requirement already satisfied: numpy<2.0,>=1.19.5 in c:\\users\\naveengoel\\appdata\\local\\packages\\pythonsoftwarefoundation.python.3.12_qbz5n2kfra8p0\\localcache\\local-packages\\python312\\site-packages (from scikit-learn) (1.26.3)\n",
      "Requirement already satisfied: scipy>=1.6.0 in c:\\users\\naveengoel\\appdata\\local\\packages\\pythonsoftwarefoundation.python.3.12_qbz5n2kfra8p0\\localcache\\local-packages\\python312\\site-packages (from scikit-learn) (1.12.0)\n",
      "Requirement already satisfied: joblib>=1.2.0 in c:\\users\\naveengoel\\appdata\\local\\packages\\pythonsoftwarefoundation.python.3.12_qbz5n2kfra8p0\\localcache\\local-packages\\python312\\site-packages (from scikit-learn) (1.3.2)\n",
      "Requirement already satisfied: threadpoolctl>=2.0.0 in c:\\users\\naveengoel\\appdata\\local\\packages\\pythonsoftwarefoundation.python.3.12_qbz5n2kfra8p0\\localcache\\local-packages\\python312\\site-packages (from scikit-learn) (3.4.0)\n"
     ]
    }
   ],
   "source": [
    "!pip install seaborn\n",
    "!pip install scikit-learn"
   ]
  },
  {
   "cell_type": "code",
   "execution_count": 282,
   "id": "92ad80cd-de56-4c2c-8c28-807d86214c14",
   "metadata": {
    "scrolled": true
   },
   "outputs": [
    {
     "name": "stdout",
     "output_type": "stream",
     "text": [
      "Defaulting to user installation because normal site-packages is not writeable\n",
      "Requirement already satisfied: matplotlib in c:\\users\\naveengoel\\appdata\\local\\packages\\pythonsoftwarefoundation.python.3.12_qbz5n2kfra8p0\\localcache\\local-packages\\python312\\site-packages (3.8.3)\n",
      "Requirement already satisfied: contourpy>=1.0.1 in c:\\users\\naveengoel\\appdata\\local\\packages\\pythonsoftwarefoundation.python.3.12_qbz5n2kfra8p0\\localcache\\local-packages\\python312\\site-packages (from matplotlib) (1.2.0)\n",
      "Requirement already satisfied: cycler>=0.10 in c:\\users\\naveengoel\\appdata\\local\\packages\\pythonsoftwarefoundation.python.3.12_qbz5n2kfra8p0\\localcache\\local-packages\\python312\\site-packages (from matplotlib) (0.12.1)\n",
      "Requirement already satisfied: fonttools>=4.22.0 in c:\\users\\naveengoel\\appdata\\local\\packages\\pythonsoftwarefoundation.python.3.12_qbz5n2kfra8p0\\localcache\\local-packages\\python312\\site-packages (from matplotlib) (4.50.0)\n",
      "Requirement already satisfied: kiwisolver>=1.3.1 in c:\\users\\naveengoel\\appdata\\local\\packages\\pythonsoftwarefoundation.python.3.12_qbz5n2kfra8p0\\localcache\\local-packages\\python312\\site-packages (from matplotlib) (1.4.5)\n",
      "Requirement already satisfied: numpy<2,>=1.21 in c:\\users\\naveengoel\\appdata\\local\\packages\\pythonsoftwarefoundation.python.3.12_qbz5n2kfra8p0\\localcache\\local-packages\\python312\\site-packages (from matplotlib) (1.26.3)\n",
      "Requirement already satisfied: packaging>=20.0 in c:\\users\\naveengoel\\appdata\\local\\packages\\pythonsoftwarefoundation.python.3.12_qbz5n2kfra8p0\\localcache\\local-packages\\python312\\site-packages (from matplotlib) (23.2)\n",
      "Requirement already satisfied: pillow>=8 in c:\\users\\naveengoel\\appdata\\local\\packages\\pythonsoftwarefoundation.python.3.12_qbz5n2kfra8p0\\localcache\\local-packages\\python312\\site-packages (from matplotlib) (10.2.0)\n",
      "Requirement already satisfied: pyparsing>=2.3.1 in c:\\users\\naveengoel\\appdata\\local\\packages\\pythonsoftwarefoundation.python.3.12_qbz5n2kfra8p0\\localcache\\local-packages\\python312\\site-packages (from matplotlib) (3.1.2)\n",
      "Requirement already satisfied: python-dateutil>=2.7 in c:\\users\\naveengoel\\appdata\\local\\packages\\pythonsoftwarefoundation.python.3.12_qbz5n2kfra8p0\\localcache\\local-packages\\python312\\site-packages (from matplotlib) (2.8.2)\n",
      "Requirement already satisfied: six>=1.5 in c:\\users\\naveengoel\\appdata\\local\\packages\\pythonsoftwarefoundation.python.3.12_qbz5n2kfra8p0\\localcache\\local-packages\\python312\\site-packages (from python-dateutil>=2.7->matplotlib) (1.16.0)\n"
     ]
    }
   ],
   "source": [
    "!pip install matplotlib"
   ]
  },
  {
   "cell_type": "code",
   "execution_count": 283,
   "id": "f187cae9-f6af-44d6-826c-d107d81c07a0",
   "metadata": {},
   "outputs": [],
   "source": [
    "import numpy as np\n",
    "import pandas as pd\n",
    "import numpy as np\n",
    "import matplotlib.pyplot as plt\n",
    "import seaborn as sns\n",
    "\n",
    "import sklearn\n",
    "from sklearn.model_selection import train_test_split\n",
    "from sklearn.linear_model import LinearRegression\n",
    "from sklearn.metrics import mean_squared_error, mean_absolute_error,r2_score\n",
    "\n",
    "import warnings\n",
    "warnings.filterwarnings('ignore')"
   ]
  },
  {
   "cell_type": "code",
   "execution_count": null,
   "id": "a82c3a5c-359d-4077-8bcf-7f2b48e2f3e1",
   "metadata": {},
   "outputs": [],
   "source": []
  },
  {
   "cell_type": "code",
   "execution_count": 284,
   "id": "61b3e52c-a2a2-4770-bf40-5ee8df424a39",
   "metadata": {
    "scrolled": true
   },
   "outputs": [
    {
     "data": {
      "text/html": [
       "<div>\n",
       "<style scoped>\n",
       "    .dataframe tbody tr th:only-of-type {\n",
       "        vertical-align: middle;\n",
       "    }\n",
       "\n",
       "    .dataframe tbody tr th {\n",
       "        vertical-align: top;\n",
       "    }\n",
       "\n",
       "    .dataframe thead th {\n",
       "        text-align: right;\n",
       "    }\n",
       "</style>\n",
       "<table border=\"1\" class=\"dataframe\">\n",
       "  <thead>\n",
       "    <tr style=\"text-align: right;\">\n",
       "      <th></th>\n",
       "      <th>Avg. Area Income</th>\n",
       "      <th>Avg. Area House Age</th>\n",
       "      <th>Avg. Area Number of Rooms</th>\n",
       "      <th>Avg. Area Number of Bedrooms</th>\n",
       "      <th>Area Population</th>\n",
       "      <th>Price</th>\n",
       "      <th>Address</th>\n",
       "    </tr>\n",
       "  </thead>\n",
       "  <tbody>\n",
       "    <tr>\n",
       "      <th>0</th>\n",
       "      <td>79545.458574</td>\n",
       "      <td>5.682861</td>\n",
       "      <td>7.009188</td>\n",
       "      <td>4.09</td>\n",
       "      <td>23086.800503</td>\n",
       "      <td>1.059034e+06</td>\n",
       "      <td>208 Michael Ferry Apt. 674\\nLaurabury, NE 3701...</td>\n",
       "    </tr>\n",
       "    <tr>\n",
       "      <th>1</th>\n",
       "      <td>79248.642455</td>\n",
       "      <td>6.002900</td>\n",
       "      <td>6.730821</td>\n",
       "      <td>3.09</td>\n",
       "      <td>40173.072174</td>\n",
       "      <td>1.505891e+06</td>\n",
       "      <td>188 Johnson Views Suite 079\\nLake Kathleen, CA...</td>\n",
       "    </tr>\n",
       "    <tr>\n",
       "      <th>2</th>\n",
       "      <td>61287.067179</td>\n",
       "      <td>5.865890</td>\n",
       "      <td>8.512727</td>\n",
       "      <td>5.13</td>\n",
       "      <td>36882.159400</td>\n",
       "      <td>1.058988e+06</td>\n",
       "      <td>9127 Elizabeth Stravenue\\nDanieltown, WI 06482...</td>\n",
       "    </tr>\n",
       "    <tr>\n",
       "      <th>3</th>\n",
       "      <td>63345.240046</td>\n",
       "      <td>7.188236</td>\n",
       "      <td>5.586729</td>\n",
       "      <td>3.26</td>\n",
       "      <td>34310.242831</td>\n",
       "      <td>1.260617e+06</td>\n",
       "      <td>USS Barnett\\nFPO AP 44820</td>\n",
       "    </tr>\n",
       "    <tr>\n",
       "      <th>4</th>\n",
       "      <td>59982.197226</td>\n",
       "      <td>5.040555</td>\n",
       "      <td>7.839388</td>\n",
       "      <td>4.23</td>\n",
       "      <td>26354.109472</td>\n",
       "      <td>6.309435e+05</td>\n",
       "      <td>USNS Raymond\\nFPO AE 09386</td>\n",
       "    </tr>\n",
       "  </tbody>\n",
       "</table>\n",
       "</div>"
      ],
      "text/plain": [
       "   Avg. Area Income  Avg. Area House Age  Avg. Area Number of Rooms  \\\n",
       "0      79545.458574             5.682861                   7.009188   \n",
       "1      79248.642455             6.002900                   6.730821   \n",
       "2      61287.067179             5.865890                   8.512727   \n",
       "3      63345.240046             7.188236                   5.586729   \n",
       "4      59982.197226             5.040555                   7.839388   \n",
       "\n",
       "   Avg. Area Number of Bedrooms  Area Population         Price  \\\n",
       "0                          4.09     23086.800503  1.059034e+06   \n",
       "1                          3.09     40173.072174  1.505891e+06   \n",
       "2                          5.13     36882.159400  1.058988e+06   \n",
       "3                          3.26     34310.242831  1.260617e+06   \n",
       "4                          4.23     26354.109472  6.309435e+05   \n",
       "\n",
       "                                             Address  \n",
       "0  208 Michael Ferry Apt. 674\\nLaurabury, NE 3701...  \n",
       "1  188 Johnson Views Suite 079\\nLake Kathleen, CA...  \n",
       "2  9127 Elizabeth Stravenue\\nDanieltown, WI 06482...  \n",
       "3                          USS Barnett\\nFPO AP 44820  \n",
       "4                         USNS Raymond\\nFPO AE 09386  "
      ]
     },
     "execution_count": 284,
     "metadata": {},
     "output_type": "execute_result"
    }
   ],
   "source": [
    "data= pd.read_csv('USA_Housing.csv')\n",
    "data.head()"
   ]
  },
  {
   "cell_type": "markdown",
   "id": "e5666faa-bf70-4df0-8040-f8df0ed2f77b",
   "metadata": {},
   "source": [
    "EXPLORATORY DATA ANALYSIS(EDA)"
   ]
  },
  {
   "cell_type": "code",
   "execution_count": 285,
   "id": "167a6007-2c7f-40af-86ae-c9e228d380b4",
   "metadata": {},
   "outputs": [
    {
     "data": {
      "text/plain": [
       "(5000, 7)"
      ]
     },
     "execution_count": 285,
     "metadata": {},
     "output_type": "execute_result"
    }
   ],
   "source": [
    "data.shape"
   ]
  },
  {
   "cell_type": "code",
   "execution_count": 286,
   "id": "e1d1c05e-cd90-427b-b51d-8c13736f9b5c",
   "metadata": {},
   "outputs": [
    {
     "data": {
      "text/plain": [
       "Index(['Avg. Area Income', 'Avg. Area House Age', 'Avg. Area Number of Rooms',\n",
       "       'Avg. Area Number of Bedrooms', 'Area Population', 'Price', 'Address'],\n",
       "      dtype='object')"
      ]
     },
     "execution_count": 286,
     "metadata": {},
     "output_type": "execute_result"
    }
   ],
   "source": [
    "data.columns"
   ]
  },
  {
   "cell_type": "code",
   "execution_count": 287,
   "id": "41b64107-f3e7-4a80-959f-d3c55bb11fb1",
   "metadata": {},
   "outputs": [
    {
     "name": "stdout",
     "output_type": "stream",
     "text": [
      "<class 'pandas.core.frame.DataFrame'>\n",
      "RangeIndex: 5000 entries, 0 to 4999\n",
      "Data columns (total 7 columns):\n",
      " #   Column                        Non-Null Count  Dtype  \n",
      "---  ------                        --------------  -----  \n",
      " 0   Avg. Area Income              5000 non-null   float64\n",
      " 1   Avg. Area House Age           5000 non-null   float64\n",
      " 2   Avg. Area Number of Rooms     5000 non-null   float64\n",
      " 3   Avg. Area Number of Bedrooms  5000 non-null   float64\n",
      " 4   Area Population               5000 non-null   float64\n",
      " 5   Price                         5000 non-null   float64\n",
      " 6   Address                       5000 non-null   object \n",
      "dtypes: float64(6), object(1)\n",
      "memory usage: 273.6+ KB\n"
     ]
    }
   ],
   "source": [
    "data.info()"
   ]
  },
  {
   "cell_type": "code",
   "execution_count": null,
   "id": "692a6a2a-2fc8-44f4-accc-39efe9297355",
   "metadata": {},
   "outputs": [],
   "source": []
  },
  {
   "cell_type": "code",
   "execution_count": 288,
   "id": "32a7b970-319c-4990-a141-7b7f03e2d448",
   "metadata": {},
   "outputs": [
    {
     "data": {
      "text/html": [
       "<div>\n",
       "<style scoped>\n",
       "    .dataframe tbody tr th:only-of-type {\n",
       "        vertical-align: middle;\n",
       "    }\n",
       "\n",
       "    .dataframe tbody tr th {\n",
       "        vertical-align: top;\n",
       "    }\n",
       "\n",
       "    .dataframe thead th {\n",
       "        text-align: right;\n",
       "    }\n",
       "</style>\n",
       "<table border=\"1\" class=\"dataframe\">\n",
       "  <thead>\n",
       "    <tr style=\"text-align: right;\">\n",
       "      <th></th>\n",
       "      <th>Avg. Area Income</th>\n",
       "      <th>Avg. Area House Age</th>\n",
       "      <th>Avg. Area Number of Rooms</th>\n",
       "      <th>Avg. Area Number of Bedrooms</th>\n",
       "      <th>Area Population</th>\n",
       "      <th>Price</th>\n",
       "    </tr>\n",
       "  </thead>\n",
       "  <tbody>\n",
       "    <tr>\n",
       "      <th>count</th>\n",
       "      <td>5000.000000</td>\n",
       "      <td>5000.000000</td>\n",
       "      <td>5000.000000</td>\n",
       "      <td>5000.000000</td>\n",
       "      <td>5000.000000</td>\n",
       "      <td>5.000000e+03</td>\n",
       "    </tr>\n",
       "    <tr>\n",
       "      <th>mean</th>\n",
       "      <td>68583.108984</td>\n",
       "      <td>5.977222</td>\n",
       "      <td>6.987792</td>\n",
       "      <td>3.981330</td>\n",
       "      <td>36163.516039</td>\n",
       "      <td>1.232073e+06</td>\n",
       "    </tr>\n",
       "    <tr>\n",
       "      <th>std</th>\n",
       "      <td>10657.991214</td>\n",
       "      <td>0.991456</td>\n",
       "      <td>1.005833</td>\n",
       "      <td>1.234137</td>\n",
       "      <td>9925.650114</td>\n",
       "      <td>3.531176e+05</td>\n",
       "    </tr>\n",
       "    <tr>\n",
       "      <th>min</th>\n",
       "      <td>17796.631190</td>\n",
       "      <td>2.644304</td>\n",
       "      <td>3.236194</td>\n",
       "      <td>2.000000</td>\n",
       "      <td>172.610686</td>\n",
       "      <td>1.593866e+04</td>\n",
       "    </tr>\n",
       "    <tr>\n",
       "      <th>25%</th>\n",
       "      <td>61480.562388</td>\n",
       "      <td>5.322283</td>\n",
       "      <td>6.299250</td>\n",
       "      <td>3.140000</td>\n",
       "      <td>29403.928702</td>\n",
       "      <td>9.975771e+05</td>\n",
       "    </tr>\n",
       "    <tr>\n",
       "      <th>50%</th>\n",
       "      <td>68804.286404</td>\n",
       "      <td>5.970429</td>\n",
       "      <td>7.002902</td>\n",
       "      <td>4.050000</td>\n",
       "      <td>36199.406689</td>\n",
       "      <td>1.232669e+06</td>\n",
       "    </tr>\n",
       "    <tr>\n",
       "      <th>75%</th>\n",
       "      <td>75783.338666</td>\n",
       "      <td>6.650808</td>\n",
       "      <td>7.665871</td>\n",
       "      <td>4.490000</td>\n",
       "      <td>42861.290769</td>\n",
       "      <td>1.471210e+06</td>\n",
       "    </tr>\n",
       "    <tr>\n",
       "      <th>max</th>\n",
       "      <td>107701.748378</td>\n",
       "      <td>9.519088</td>\n",
       "      <td>10.759588</td>\n",
       "      <td>6.500000</td>\n",
       "      <td>69621.713378</td>\n",
       "      <td>2.469066e+06</td>\n",
       "    </tr>\n",
       "  </tbody>\n",
       "</table>\n",
       "</div>"
      ],
      "text/plain": [
       "       Avg. Area Income  Avg. Area House Age  Avg. Area Number of Rooms  \\\n",
       "count       5000.000000          5000.000000                5000.000000   \n",
       "mean       68583.108984             5.977222                   6.987792   \n",
       "std        10657.991214             0.991456                   1.005833   \n",
       "min        17796.631190             2.644304                   3.236194   \n",
       "25%        61480.562388             5.322283                   6.299250   \n",
       "50%        68804.286404             5.970429                   7.002902   \n",
       "75%        75783.338666             6.650808                   7.665871   \n",
       "max       107701.748378             9.519088                  10.759588   \n",
       "\n",
       "       Avg. Area Number of Bedrooms  Area Population         Price  \n",
       "count                   5000.000000      5000.000000  5.000000e+03  \n",
       "mean                       3.981330     36163.516039  1.232073e+06  \n",
       "std                        1.234137      9925.650114  3.531176e+05  \n",
       "min                        2.000000       172.610686  1.593866e+04  \n",
       "25%                        3.140000     29403.928702  9.975771e+05  \n",
       "50%                        4.050000     36199.406689  1.232669e+06  \n",
       "75%                        4.490000     42861.290769  1.471210e+06  \n",
       "max                        6.500000     69621.713378  2.469066e+06  "
      ]
     },
     "execution_count": 288,
     "metadata": {},
     "output_type": "execute_result"
    }
   ],
   "source": [
    "data.describe()"
   ]
  },
  {
   "cell_type": "code",
   "execution_count": 289,
   "id": "ee705fa5-490a-4c40-88ad-ac07ec2fe5a5",
   "metadata": {},
   "outputs": [
    {
     "data": {
      "text/html": [
       "<div>\n",
       "<style scoped>\n",
       "    .dataframe tbody tr th:only-of-type {\n",
       "        vertical-align: middle;\n",
       "    }\n",
       "\n",
       "    .dataframe tbody tr th {\n",
       "        vertical-align: top;\n",
       "    }\n",
       "\n",
       "    .dataframe thead th {\n",
       "        text-align: right;\n",
       "    }\n",
       "</style>\n",
       "<table border=\"1\" class=\"dataframe\">\n",
       "  <thead>\n",
       "    <tr style=\"text-align: right;\">\n",
       "      <th></th>\n",
       "      <th>count</th>\n",
       "      <th>mean</th>\n",
       "      <th>std</th>\n",
       "      <th>min</th>\n",
       "      <th>25%</th>\n",
       "      <th>50%</th>\n",
       "      <th>75%</th>\n",
       "      <th>max</th>\n",
       "    </tr>\n",
       "  </thead>\n",
       "  <tbody>\n",
       "    <tr>\n",
       "      <th>Avg. Area Income</th>\n",
       "      <td>5000.0</td>\n",
       "      <td>6.858311e+04</td>\n",
       "      <td>10657.991214</td>\n",
       "      <td>17796.631190</td>\n",
       "      <td>61480.562388</td>\n",
       "      <td>6.880429e+04</td>\n",
       "      <td>7.578334e+04</td>\n",
       "      <td>1.077017e+05</td>\n",
       "    </tr>\n",
       "    <tr>\n",
       "      <th>Avg. Area House Age</th>\n",
       "      <td>5000.0</td>\n",
       "      <td>5.977222e+00</td>\n",
       "      <td>0.991456</td>\n",
       "      <td>2.644304</td>\n",
       "      <td>5.322283</td>\n",
       "      <td>5.970429e+00</td>\n",
       "      <td>6.650808e+00</td>\n",
       "      <td>9.519088e+00</td>\n",
       "    </tr>\n",
       "    <tr>\n",
       "      <th>Avg. Area Number of Rooms</th>\n",
       "      <td>5000.0</td>\n",
       "      <td>6.987792e+00</td>\n",
       "      <td>1.005833</td>\n",
       "      <td>3.236194</td>\n",
       "      <td>6.299250</td>\n",
       "      <td>7.002902e+00</td>\n",
       "      <td>7.665871e+00</td>\n",
       "      <td>1.075959e+01</td>\n",
       "    </tr>\n",
       "    <tr>\n",
       "      <th>Avg. Area Number of Bedrooms</th>\n",
       "      <td>5000.0</td>\n",
       "      <td>3.981330e+00</td>\n",
       "      <td>1.234137</td>\n",
       "      <td>2.000000</td>\n",
       "      <td>3.140000</td>\n",
       "      <td>4.050000e+00</td>\n",
       "      <td>4.490000e+00</td>\n",
       "      <td>6.500000e+00</td>\n",
       "    </tr>\n",
       "    <tr>\n",
       "      <th>Area Population</th>\n",
       "      <td>5000.0</td>\n",
       "      <td>3.616352e+04</td>\n",
       "      <td>9925.650114</td>\n",
       "      <td>172.610686</td>\n",
       "      <td>29403.928702</td>\n",
       "      <td>3.619941e+04</td>\n",
       "      <td>4.286129e+04</td>\n",
       "      <td>6.962171e+04</td>\n",
       "    </tr>\n",
       "    <tr>\n",
       "      <th>Price</th>\n",
       "      <td>5000.0</td>\n",
       "      <td>1.232073e+06</td>\n",
       "      <td>353117.626581</td>\n",
       "      <td>15938.657923</td>\n",
       "      <td>997577.135049</td>\n",
       "      <td>1.232669e+06</td>\n",
       "      <td>1.471210e+06</td>\n",
       "      <td>2.469066e+06</td>\n",
       "    </tr>\n",
       "  </tbody>\n",
       "</table>\n",
       "</div>"
      ],
      "text/plain": [
       "                               count          mean            std  \\\n",
       "Avg. Area Income              5000.0  6.858311e+04   10657.991214   \n",
       "Avg. Area House Age           5000.0  5.977222e+00       0.991456   \n",
       "Avg. Area Number of Rooms     5000.0  6.987792e+00       1.005833   \n",
       "Avg. Area Number of Bedrooms  5000.0  3.981330e+00       1.234137   \n",
       "Area Population               5000.0  3.616352e+04    9925.650114   \n",
       "Price                         5000.0  1.232073e+06  353117.626581   \n",
       "\n",
       "                                       min            25%           50%  \\\n",
       "Avg. Area Income              17796.631190   61480.562388  6.880429e+04   \n",
       "Avg. Area House Age               2.644304       5.322283  5.970429e+00   \n",
       "Avg. Area Number of Rooms         3.236194       6.299250  7.002902e+00   \n",
       "Avg. Area Number of Bedrooms      2.000000       3.140000  4.050000e+00   \n",
       "Area Population                 172.610686   29403.928702  3.619941e+04   \n",
       "Price                         15938.657923  997577.135049  1.232669e+06   \n",
       "\n",
       "                                       75%           max  \n",
       "Avg. Area Income              7.578334e+04  1.077017e+05  \n",
       "Avg. Area House Age           6.650808e+00  9.519088e+00  \n",
       "Avg. Area Number of Rooms     7.665871e+00  1.075959e+01  \n",
       "Avg. Area Number of Bedrooms  4.490000e+00  6.500000e+00  \n",
       "Area Population               4.286129e+04  6.962171e+04  \n",
       "Price                         1.471210e+06  2.469066e+06  "
      ]
     },
     "execution_count": 289,
     "metadata": {},
     "output_type": "execute_result"
    }
   ],
   "source": [
    "data.describe().T"
   ]
  },
  {
   "cell_type": "code",
   "execution_count": 290,
   "id": "0e18adbc-2109-4d71-a77a-17caeb550cda",
   "metadata": {},
   "outputs": [
    {
     "data": {
      "text/html": [
       "<div>\n",
       "<style scoped>\n",
       "    .dataframe tbody tr th:only-of-type {\n",
       "        vertical-align: middle;\n",
       "    }\n",
       "\n",
       "    .dataframe tbody tr th {\n",
       "        vertical-align: top;\n",
       "    }\n",
       "\n",
       "    .dataframe thead th {\n",
       "        text-align: right;\n",
       "    }\n",
       "</style>\n",
       "<table border=\"1\" class=\"dataframe\">\n",
       "  <thead>\n",
       "    <tr style=\"text-align: right;\">\n",
       "      <th></th>\n",
       "      <th>Address</th>\n",
       "    </tr>\n",
       "  </thead>\n",
       "  <tbody>\n",
       "    <tr>\n",
       "      <th>count</th>\n",
       "      <td>5000</td>\n",
       "    </tr>\n",
       "    <tr>\n",
       "      <th>unique</th>\n",
       "      <td>5000</td>\n",
       "    </tr>\n",
       "    <tr>\n",
       "      <th>top</th>\n",
       "      <td>208 Michael Ferry Apt. 674\\nLaurabury, NE 3701...</td>\n",
       "    </tr>\n",
       "    <tr>\n",
       "      <th>freq</th>\n",
       "      <td>1</td>\n",
       "    </tr>\n",
       "  </tbody>\n",
       "</table>\n",
       "</div>"
      ],
      "text/plain": [
       "                                                  Address\n",
       "count                                                5000\n",
       "unique                                               5000\n",
       "top     208 Michael Ferry Apt. 674\\nLaurabury, NE 3701...\n",
       "freq                                                    1"
      ]
     },
     "execution_count": 290,
     "metadata": {},
     "output_type": "execute_result"
    }
   ],
   "source": [
    "data.describe(include='object')"
   ]
  },
  {
   "cell_type": "markdown",
   "id": "dbc4ef7b-8c9f-44be-9433-dde256192e6f",
   "metadata": {},
   "source": [
    "MISSING DATA"
   ]
  },
  {
   "cell_type": "code",
   "execution_count": 291,
   "id": "aff608fb-94e1-440c-b170-52717762598a",
   "metadata": {
    "scrolled": true
   },
   "outputs": [
    {
     "data": {
      "text/plain": [
       "Avg. Area Income                0\n",
       "Avg. Area House Age             0\n",
       "Avg. Area Number of Rooms       0\n",
       "Avg. Area Number of Bedrooms    0\n",
       "Area Population                 0\n",
       "Price                           0\n",
       "Address                         0\n",
       "dtype: int64"
      ]
     },
     "execution_count": 291,
     "metadata": {},
     "output_type": "execute_result"
    }
   ],
   "source": [
    "data.isnull().sum()"
   ]
  },
  {
   "cell_type": "markdown",
   "id": "29e81e77-743f-461d-bdfd-59fa0139ea3f",
   "metadata": {},
   "source": [
    "UNIQUE CLASSES"
   ]
  },
  {
   "cell_type": "code",
   "execution_count": 292,
   "id": "1c2b1bbc-b559-4b0c-8861-136575392bcc",
   "metadata": {},
   "outputs": [
    {
     "data": {
      "text/plain": [
       "Index(['Avg. Area Income', 'Avg. Area House Age', 'Avg. Area Number of Rooms',\n",
       "       'Avg. Area Number of Bedrooms', 'Area Population', 'Price', 'Address'],\n",
       "      dtype='object')"
      ]
     },
     "execution_count": 292,
     "metadata": {},
     "output_type": "execute_result"
    }
   ],
   "source": [
    "data.columns"
   ]
  },
  {
   "cell_type": "code",
   "execution_count": 293,
   "id": "1f6bfe86-935d-452d-81f4-e90f0fb8488e",
   "metadata": {},
   "outputs": [
    {
     "data": {
      "text/plain": [
       "Avg. Area Income                5000\n",
       "Avg. Area House Age             5000\n",
       "Avg. Area Number of Rooms       5000\n",
       "Avg. Area Number of Bedrooms     255\n",
       "Area Population                 5000\n",
       "Price                           5000\n",
       "Address                         5000\n",
       "dtype: int64"
      ]
     },
     "execution_count": 293,
     "metadata": {},
     "output_type": "execute_result"
    }
   ],
   "source": [
    "data.nunique(axis=0)"
   ]
  },
  {
   "cell_type": "code",
   "execution_count": 294,
   "id": "658c60a9-ecea-4b29-b51d-82d8422fce57",
   "metadata": {
    "scrolled": true
   },
   "outputs": [
    {
     "data": {
      "text/plain": [
       "array(['208 Michael Ferry Apt. 674\\nLaurabury, NE 37010-5101',\n",
       "       '188 Johnson Views Suite 079\\nLake Kathleen, CA 48958',\n",
       "       '9127 Elizabeth Stravenue\\nDanieltown, WI 06482-3489', ...,\n",
       "       '4215 Tracy Garden Suite 076\\nJoshualand, VA 01707-9165',\n",
       "       'USS Wallace\\nFPO AE 73316',\n",
       "       '37778 George Ridges Apt. 509\\nEast Holly, NV 29290-3595'],\n",
       "      dtype=object)"
      ]
     },
     "execution_count": 294,
     "metadata": {},
     "output_type": "execute_result"
    }
   ],
   "source": [
    "data.Address.unique()"
   ]
  },
  {
   "cell_type": "code",
   "execution_count": 295,
   "id": "03595212-8400-4985-b383-587892e576ab",
   "metadata": {},
   "outputs": [
    {
     "data": {
      "text/plain": [
       "Index(['Avg. Area Income', 'Avg. Area House Age', 'Avg. Area Number of Rooms',\n",
       "       'Avg. Area Number of Bedrooms', 'Area Population', 'Price'],\n",
       "      dtype='object')"
      ]
     },
     "execution_count": 295,
     "metadata": {},
     "output_type": "execute_result"
    }
   ],
   "source": [
    "numerical_col = data.select_dtypes(include=np.number).columns\n",
    "numerical_col"
   ]
  },
  {
   "cell_type": "code",
   "execution_count": 296,
   "id": "720908b8-1dc7-44f7-90fb-ef022a632805",
   "metadata": {},
   "outputs": [
    {
     "name": "stdout",
     "output_type": "stream",
     "text": [
      "Avg. Area Income\n",
      "79545.458574    1\n",
      "68735.436608    1\n",
      "71635.473101    1\n",
      "73211.136245    1\n",
      "86249.993070    1\n",
      "               ..\n",
      "66064.532823    1\n",
      "59390.346824    1\n",
      "64661.930276    1\n",
      "73279.030904    1\n",
      "65510.581804    1\n",
      "Name: count, Length: 5000, dtype: int64\n",
      "\n",
      "------------------------------------------------------------\n",
      "\n",
      "Avg. Area House Age\n",
      "5.682861    1\n",
      "7.721909    1\n",
      "5.866996    1\n",
      "6.501139    1\n",
      "6.155403    1\n",
      "           ..\n",
      "6.659562    1\n",
      "5.664971    1\n",
      "4.656696    1\n",
      "5.902296    1\n",
      "5.992305    1\n",
      "Name: count, Length: 5000, dtype: int64\n",
      "\n",
      "------------------------------------------------------------\n",
      "\n",
      "Avg. Area Number of Rooms\n",
      "7.009188     1\n",
      "7.621975     1\n",
      "6.075987     1\n",
      "10.280022    1\n",
      "7.967184     1\n",
      "            ..\n",
      "6.881398     1\n",
      "6.750872     1\n",
      "5.660253     1\n",
      "8.077578     1\n",
      "6.792336     1\n",
      "Name: count, Length: 5000, dtype: int64\n",
      "\n",
      "------------------------------------------------------------\n",
      "\n",
      "Avg. Area Number of Bedrooms\n",
      "4.38    46\n",
      "3.17    41\n",
      "3.40    40\n",
      "3.16    39\n",
      "3.22    38\n",
      "        ..\n",
      "6.31     7\n",
      "6.01     6\n",
      "6.02     6\n",
      "5.42     6\n",
      "6.42     5\n",
      "Name: count, Length: 255, dtype: int64\n",
      "\n",
      "------------------------------------------------------------\n",
      "\n",
      "Area Population\n",
      "23086.800503    1\n",
      "27640.561286    1\n",
      "43555.460636    1\n",
      "44198.335811    1\n",
      "43154.838627    1\n",
      "               ..\n",
      "44561.333592    1\n",
      "28995.964140    1\n",
      "49457.179373    1\n",
      "13981.435486    1\n",
      "46501.283803    1\n",
      "Name: count, Length: 5000, dtype: int64\n",
      "\n",
      "------------------------------------------------------------\n",
      "\n",
      "Price\n",
      "1.059034e+06    1\n",
      "1.521141e+06    1\n",
      "1.148372e+06    1\n",
      "2.065710e+06    1\n",
      "1.749820e+06    1\n",
      "               ..\n",
      "1.444701e+06    1\n",
      "7.884278e+05    1\n",
      "8.759045e+05    1\n",
      "9.844212e+05    1\n",
      "1.298950e+06    1\n",
      "Name: count, Length: 5000, dtype: int64\n",
      "\n",
      "------------------------------------------------------------\n",
      "\n"
     ]
    }
   ],
   "source": [
    "numerical_col = data.select_dtypes(include=np.number).columns\n",
    "numerical_col\n",
    "for i in numerical_col:\n",
    "    print(data[i].value_counts())\n",
    "    print()\n",
    "    print('------------------------------------------------------------')\n",
    "    print()"
   ]
  },
  {
   "cell_type": "code",
   "execution_count": null,
   "id": "00f0c14b-4d0e-46f7-818c-d8c330370058",
   "metadata": {},
   "outputs": [],
   "source": []
  },
  {
   "cell_type": "code",
   "execution_count": 297,
   "id": "a7b9ea38-6253-4cd4-8b35-dd09ae3fb2c0",
   "metadata": {},
   "outputs": [],
   "source": [
    "def attribute_info(df_col):\n",
    "    \n",
    "    print(f'Descrition of Attribute: \\n \\n {df_col.describe()} \\n')\n",
    "    print(f'Value Count: \\n \\n {df_col.value_counts()} \\n')    \n",
    "    print(f'Unique Values: \\n \\n {df_col.unique()} \\n')        \n",
    "    print(f'Missing Values: \\n \\n {df_col.isnull().sum()} \\n')    \n",
    "    print(f'Missing Values in %: \\n \\n {df_col.isnull().mean()} \\n')            "
   ]
  },
  {
   "cell_type": "code",
   "execution_count": 298,
   "id": "a6fe1138-5dc7-4500-bb67-7bac02623050",
   "metadata": {
    "scrolled": true
   },
   "outputs": [
    {
     "name": "stdout",
     "output_type": "stream",
     "text": [
      "Descrition of Attribute: \n",
      " \n",
      " count    5000.000000\n",
      "mean        6.987792\n",
      "std         1.005833\n",
      "min         3.236194\n",
      "25%         6.299250\n",
      "50%         7.002902\n",
      "75%         7.665871\n",
      "max        10.759588\n",
      "Name: Avg. Area Number of Rooms, dtype: float64 \n",
      "\n",
      "Value Count: \n",
      " \n",
      " Avg. Area Number of Rooms\n",
      "7.009188     1\n",
      "7.621975     1\n",
      "6.075987     1\n",
      "10.280022    1\n",
      "7.967184     1\n",
      "            ..\n",
      "6.881398     1\n",
      "6.750872     1\n",
      "5.660253     1\n",
      "8.077578     1\n",
      "6.792336     1\n",
      "Name: count, Length: 5000, dtype: int64 \n",
      "\n",
      "Unique Values: \n",
      " \n",
      " [7.00918814 6.73082102 8.51272743 ... 4.80508098 7.13014386 6.7923361 ] \n",
      "\n",
      "Missing Values: \n",
      " \n",
      " 0 \n",
      "\n",
      "Missing Values in %: \n",
      " \n",
      " 0.0 \n",
      "\n"
     ]
    }
   ],
   "source": [
    "attribute_info(data['Avg. Area Number of Rooms'])"
   ]
  },
  {
   "cell_type": "code",
   "execution_count": 299,
   "id": "81c3f307-176e-4804-9df9-bba4060ca22d",
   "metadata": {},
   "outputs": [
    {
     "name": "stdout",
     "output_type": "stream",
     "text": [
      "\u001b[1m --------------------------------- Avg. Area Income ----------------------------------- \u001b[0m\n",
      "\n",
      " \n",
      "\n",
      "Descrition of Attribute: \n",
      " \n",
      " count      5000.000000\n",
      "mean      68583.108984\n",
      "std       10657.991214\n",
      "min       17796.631190\n",
      "25%       61480.562388\n",
      "50%       68804.286404\n",
      "75%       75783.338666\n",
      "max      107701.748378\n",
      "Name: Avg. Area Income, dtype: float64 \n",
      "\n",
      "Value Count: \n",
      " \n",
      " Avg. Area Income\n",
      "79545.458574    1\n",
      "68735.436608    1\n",
      "71635.473101    1\n",
      "73211.136245    1\n",
      "86249.993070    1\n",
      "               ..\n",
      "66064.532823    1\n",
      "59390.346824    1\n",
      "64661.930276    1\n",
      "73279.030904    1\n",
      "65510.581804    1\n",
      "Name: count, Length: 5000, dtype: int64 \n",
      "\n",
      "Unique Values: \n",
      " \n",
      " [79545.45857432 79248.64245483 61287.06717866 ... 63390.6868855\n",
      " 68001.33123509 65510.58180367] \n",
      "\n",
      "Missing Values: \n",
      " \n",
      " 0 \n",
      "\n",
      "Missing Values in %: \n",
      " \n",
      " 0.0 \n",
      "\n",
      "\n",
      "\u001b[1m --------------------------------- Avg. Area House Age ----------------------------------- \u001b[0m\n",
      "\n",
      " \n",
      "\n",
      "Descrition of Attribute: \n",
      " \n",
      " count    5000.000000\n",
      "mean        5.977222\n",
      "std         0.991456\n",
      "min         2.644304\n",
      "25%         5.322283\n",
      "50%         5.970429\n",
      "75%         6.650808\n",
      "max         9.519088\n",
      "Name: Avg. Area House Age, dtype: float64 \n",
      "\n",
      "Value Count: \n",
      " \n",
      " Avg. Area House Age\n",
      "5.682861    1\n",
      "7.721909    1\n",
      "5.866996    1\n",
      "6.501139    1\n",
      "6.155403    1\n",
      "           ..\n",
      "6.659562    1\n",
      "5.664971    1\n",
      "4.656696    1\n",
      "5.902296    1\n",
      "5.992305    1\n",
      "Name: count, Length: 5000, dtype: int64 \n",
      "\n",
      "Unique Values: \n",
      " \n",
      " [5.68286132 6.00289981 5.86588984 ... 7.25059061 5.53438842 5.99230531] \n",
      "\n",
      "Missing Values: \n",
      " \n",
      " 0 \n",
      "\n",
      "Missing Values in %: \n",
      " \n",
      " 0.0 \n",
      "\n",
      "\n",
      "\u001b[1m --------------------------------- Avg. Area Number of Rooms ----------------------------------- \u001b[0m\n",
      "\n",
      " \n",
      "\n",
      "Descrition of Attribute: \n",
      " \n",
      " count    5000.000000\n",
      "mean        6.987792\n",
      "std         1.005833\n",
      "min         3.236194\n",
      "25%         6.299250\n",
      "50%         7.002902\n",
      "75%         7.665871\n",
      "max        10.759588\n",
      "Name: Avg. Area Number of Rooms, dtype: float64 \n",
      "\n",
      "Value Count: \n",
      " \n",
      " Avg. Area Number of Rooms\n",
      "7.009188     1\n",
      "7.621975     1\n",
      "6.075987     1\n",
      "10.280022    1\n",
      "7.967184     1\n",
      "            ..\n",
      "6.881398     1\n",
      "6.750872     1\n",
      "5.660253     1\n",
      "8.077578     1\n",
      "6.792336     1\n",
      "Name: count, Length: 5000, dtype: int64 \n",
      "\n",
      "Unique Values: \n",
      " \n",
      " [7.00918814 6.73082102 8.51272743 ... 4.80508098 7.13014386 6.7923361 ] \n",
      "\n",
      "Missing Values: \n",
      " \n",
      " 0 \n",
      "\n",
      "Missing Values in %: \n",
      " \n",
      " 0.0 \n",
      "\n",
      "\n",
      "\u001b[1m --------------------------------- Avg. Area Number of Bedrooms ----------------------------------- \u001b[0m\n",
      "\n",
      " \n",
      "\n",
      "Descrition of Attribute: \n",
      " \n",
      " count    5000.000000\n",
      "mean        3.981330\n",
      "std         1.234137\n",
      "min         2.000000\n",
      "25%         3.140000\n",
      "50%         4.050000\n",
      "75%         4.490000\n",
      "max         6.500000\n",
      "Name: Avg. Area Number of Bedrooms, dtype: float64 \n",
      "\n",
      "Value Count: \n",
      " \n",
      " Avg. Area Number of Bedrooms\n",
      "4.38    46\n",
      "3.17    41\n",
      "3.40    40\n",
      "3.16    39\n",
      "3.22    38\n",
      "        ..\n",
      "6.31     7\n",
      "6.01     6\n",
      "6.02     6\n",
      "5.42     6\n",
      "6.42     5\n",
      "Name: count, Length: 255, dtype: int64 \n",
      "\n",
      "Unique Values: \n",
      " \n",
      " [4.09 3.09 5.13 3.26 4.23 4.04 3.41 2.42 2.3  6.1  4.1  4.49 3.1  2.27\n",
      " 4.37 4.01 3.12 4.3  5.12 5.49 4.07 2.1  4.31 6.34 4.33 2.03 4.   3.04\n",
      " 3.24 4.42 5.36 6.29 6.   2.07 3.01 2.39 2.5  2.17 6.3  4.43 4.44 6.32\n",
      " 3.18 6.35 3.22 2.13 4.02 6.36 3.32 4.12 6.41 5.08 3.06 2.28 4.2  4.32\n",
      " 5.43 3.13 3.28 3.27 3.08 3.17 3.15 6.25 3.43 4.38 6.16 4.28 4.11 6.24\n",
      " 3.35 4.48 3.2  3.07 3.39 3.38 6.06 3.3  3.46 3.33 4.41 2.38 2.37 3.45\n",
      " 2.02 2.14 2.23 2.44 2.29 4.19 6.04 5.28 5.1  5.45 4.36 2.05 6.39 4.45\n",
      " 4.22 6.44 4.35 3.37 6.2  6.19 2.49 2.04 4.46 5.15 3.21 6.45 3.44 2.18\n",
      " 3.49 6.26 4.14 4.27 5.04 4.06 6.4  3.25 5.33 3.   2.47 3.31 3.14 4.18\n",
      " 5.07 6.11 2.   5.3  4.26 2.31 3.48 3.29 3.11 3.36 2.15 6.18 5.25 4.47\n",
      " 5.21 4.15 6.37 6.49 6.28 2.09 4.29 6.21 2.08 4.24 2.4  5.37 4.21 2.32\n",
      " 3.23 5.02 5.38 2.34 6.08 3.42 4.25 6.15 3.4  5.46 5.48 2.46 2.26 5.2\n",
      " 4.03 3.16 5.11 6.22 2.21 6.09 6.33 6.03 4.05 5.27 5.4  3.02 4.4  3.34\n",
      " 2.48 5.17 5.   3.47 4.5  6.12 5.41 2.19 3.5  4.17 2.36 6.14 4.16 5.26\n",
      " 4.13 4.39 6.5  5.18 3.19 6.47 6.13 5.19 2.2  5.47 5.01 6.43 3.05 2.41\n",
      " 5.39 5.24 2.45 6.31 5.44 2.11 4.08 2.22 2.16 2.33 5.05 4.34 2.06 5.32\n",
      " 6.02 5.34 3.03 5.03 6.27 2.24 6.46 6.23 5.06 2.35 2.01 2.25 2.12 6.01\n",
      " 6.07 6.42 5.35 5.22 5.29 5.16 5.09 5.23 2.43 5.5  6.05 6.38 6.17 6.48\n",
      " 5.14 5.31 5.42] \n",
      "\n",
      "Missing Values: \n",
      " \n",
      " 0 \n",
      "\n",
      "Missing Values in %: \n",
      " \n",
      " 0.0 \n",
      "\n",
      "\n",
      "\u001b[1m --------------------------------- Area Population ----------------------------------- \u001b[0m\n",
      "\n",
      " \n",
      "\n",
      "Descrition of Attribute: \n",
      " \n",
      " count     5000.000000\n",
      "mean     36163.516039\n",
      "std       9925.650114\n",
      "min        172.610686\n",
      "25%      29403.928702\n",
      "50%      36199.406689\n",
      "75%      42861.290769\n",
      "max      69621.713378\n",
      "Name: Area Population, dtype: float64 \n",
      "\n",
      "Value Count: \n",
      " \n",
      " Area Population\n",
      "23086.800503    1\n",
      "27640.561286    1\n",
      "43555.460636    1\n",
      "44198.335811    1\n",
      "43154.838627    1\n",
      "               ..\n",
      "44561.333592    1\n",
      "28995.964140    1\n",
      "49457.179373    1\n",
      "13981.435486    1\n",
      "46501.283803    1\n",
      "Name: count, Length: 5000, dtype: int64 \n",
      "\n",
      "Unique Values: \n",
      " \n",
      " [23086.80050269 40173.07217364 36882.1593997  ... 33266.14548965\n",
      " 42625.62015585 46501.28380314] \n",
      "\n",
      "Missing Values: \n",
      " \n",
      " 0 \n",
      "\n",
      "Missing Values in %: \n",
      " \n",
      " 0.0 \n",
      "\n",
      "\n",
      "\u001b[1m --------------------------------- Price ----------------------------------- \u001b[0m\n",
      "\n",
      " \n",
      "\n",
      "Descrition of Attribute: \n",
      " \n",
      " count    5.000000e+03\n",
      "mean     1.232073e+06\n",
      "std      3.531176e+05\n",
      "min      1.593866e+04\n",
      "25%      9.975771e+05\n",
      "50%      1.232669e+06\n",
      "75%      1.471210e+06\n",
      "max      2.469066e+06\n",
      "Name: Price, dtype: float64 \n",
      "\n",
      "Value Count: \n",
      " \n",
      " Price\n",
      "1.059034e+06    1\n",
      "1.521141e+06    1\n",
      "1.148372e+06    1\n",
      "2.065710e+06    1\n",
      "1.749820e+06    1\n",
      "               ..\n",
      "1.444701e+06    1\n",
      "7.884278e+05    1\n",
      "8.759045e+05    1\n",
      "9.844212e+05    1\n",
      "1.298950e+06    1\n",
      "Name: count, Length: 5000, dtype: int64 \n",
      "\n",
      "Unique Values: \n",
      " \n",
      " [1059033.55787012 1505890.91484695 1058987.98787608 ... 1030729.58315229\n",
      " 1198656.87240769 1298950.48026696] \n",
      "\n",
      "Missing Values: \n",
      " \n",
      " 0 \n",
      "\n",
      "Missing Values in %: \n",
      " \n",
      " 0.0 \n",
      "\n",
      "\n",
      "\u001b[1m --------------------------------- Address ----------------------------------- \u001b[0m\n",
      "\n",
      " \n",
      "\n",
      "Descrition of Attribute: \n",
      " \n",
      " count                                                  5000\n",
      "unique                                                 5000\n",
      "top       208 Michael Ferry Apt. 674\\nLaurabury, NE 3701...\n",
      "freq                                                      1\n",
      "Name: Address, dtype: object \n",
      "\n",
      "Value Count: \n",
      " \n",
      " Address\n",
      "208 Michael Ferry Apt. 674\\nLaurabury, NE 37010-5101             1\n",
      "314 Christopher Square Apt. 404\\nLake Ronaldville, SD 42025      1\n",
      "21042 Wilson Islands Suite 238\\nFischerchester, MP 42425-4129    1\n",
      "Unit 8831 Box 5748\\nDPO AE 73012-7314                            1\n",
      "481 Kaitlin Mission Apt. 309\\nJodystad, IA 16947                 1\n",
      "                                                                ..\n",
      "054 Carter Crescent Suite 674\\nGlennport, WA 11140               1\n",
      "8460 Kathleen Mission Apt. 482\\nPort Amytown, KY 72016           1\n",
      "3737 Hartman Rue\\nReneestad, ID 69250-7718                       1\n",
      "3465 Latoya Well\\nNelsonmouth, MI 55741-4287                     1\n",
      "37778 George Ridges Apt. 509\\nEast Holly, NV 29290-3595          1\n",
      "Name: count, Length: 5000, dtype: int64 \n",
      "\n",
      "Unique Values: \n",
      " \n",
      " ['208 Michael Ferry Apt. 674\\nLaurabury, NE 37010-5101'\n",
      " '188 Johnson Views Suite 079\\nLake Kathleen, CA 48958'\n",
      " '9127 Elizabeth Stravenue\\nDanieltown, WI 06482-3489' ...\n",
      " '4215 Tracy Garden Suite 076\\nJoshualand, VA 01707-9165'\n",
      " 'USS Wallace\\nFPO AE 73316'\n",
      " '37778 George Ridges Apt. 509\\nEast Holly, NV 29290-3595'] \n",
      "\n",
      "Missing Values: \n",
      " \n",
      " 0 \n",
      "\n",
      "Missing Values in %: \n",
      " \n",
      " 0.0 \n",
      "\n",
      "\n"
     ]
    }
   ],
   "source": [
    "for col in data:\n",
    "    print(f\"\\033[1m --------------------------------- {col} ----------------------------------- \\033[0m\")\n",
    "    print('\\n \\n')\n",
    "    attribute_info(data[col])\n",
    "    print()"
   ]
  },
  {
   "cell_type": "markdown",
   "id": "2ef5b3ee-f671-4697-b10a-d0c5cf68d760",
   "metadata": {},
   "source": [
    "DATA VISUALISATION"
   ]
  },
  {
   "cell_type": "code",
   "execution_count": 300,
   "id": "b88f2274-de86-42be-b448-2f49652a7578",
   "metadata": {},
   "outputs": [
    {
     "data": {
      "image/png": "[encoded data removed]",
      "text/plain": [
       "<Figure size 1200x1000 with 6 Axes>"
      ]
     },
     "metadata": {},
     "output_type": "display_data"
    }
   ],
   "source": [
    "data.hist(figsize=(12,10),color='pink',bins=20)\n",
    "plt.show()"
   ]
  },
  {
   "cell_type": "markdown",
   "id": "cee4ca43-9239-4f3d-82ac-a3ef457880b8",
   "metadata": {},
   "source": [
    "OUTLIER DETECTION"
   ]
  },
  {
   "cell_type": "code",
   "execution_count": 301,
   "id": "f0c7fc3d-621a-479d-80b0-13b2592dacf3",
   "metadata": {
    "scrolled": true
   },
   "outputs": [
    {
     "data": {
      "image/png": "[encoded data removed]",
      "text/plain": [
       "<Figure size 2000x600 with 1 Axes>"
      ]
     },
     "metadata": {},
     "output_type": "display_data"
    }
   ],
   "source": [
    "sns.set(rc={'figure.figsize':(20,6)})\n",
    "sns.boxplot(data)\n",
    "\n",
    "plt.show()"
   ]
  },
  {
   "cell_type": "markdown",
   "id": "b4db7dab-4390-4b62-bf16-085f47715aee",
   "metadata": {},
   "source": [
    "OUTLIERS OF Avg. Area Income"
   ]
  },
  {
   "cell_type": "code",
   "execution_count": 302,
   "id": "6db315b3-30f1-4918-9523-eadd0e73d17e",
   "metadata": {
    "scrolled": true
   },
   "outputs": [
    {
     "data": {
      "text/plain": [
       "<Axes: ylabel='Avg. Area Income'>"
      ]
     },
     "execution_count": 302,
     "metadata": {},
     "output_type": "execute_result"
    },
    {
     "data": {
      "image/png": "[encoded data removed]",
      "text/plain": [
       "<Figure size 1200x800 with 1 Axes>"
      ]
     },
     "metadata": {},
     "output_type": "display_data"
    }
   ],
   "source": [
    "sns.set(rc={'figure.figsize':(12,8)})\n",
    "sns.boxplot(data['Avg. Area Income'])\n"
   ]
  },
  {
   "cell_type": "code",
   "execution_count": 303,
   "id": "d2d09291-b90c-42cb-88b4-af457f7ae506",
   "metadata": {},
   "outputs": [
    {
     "data": {
      "text/plain": [
       "Index([  94,  428,  558,  601,  693,  876,  962, 1096, 1264, 1516, 1734, 1891,\n",
       "       1957, 2300, 2383, 2588, 2719, 3059, 3483, 3541, 3611, 3670, 3798, 3905,\n",
       "       3945, 3947, 4087, 4158, 4206, 4400, 4524],\n",
       "      dtype='int64')"
      ]
     },
     "execution_count": 303,
     "metadata": {},
     "output_type": "execute_result"
    }
   ],
   "source": [
    "(data[data['Avg. Area Income']>95000]).index"
   ]
  },
  {
   "cell_type": "code",
   "execution_count": 304,
   "id": "181ba407-e25e-4213-a7dd-837e82a0af17",
   "metadata": {},
   "outputs": [],
   "source": [
    "data.drop(index=[  94,  428,  558,  601,  693,  876,  962, 1096, 1264, 1516, 1734, 1891,\n",
    "       1957, 2300, 2383, 2588, 2719, 3059, 3483, 3541, 3611, 3670, 3798, 3905,\n",
    "       3945, 3947, 4087, 4158, 4206, 4400, 4524],axis=0,inplace=True)"
   ]
  },
  {
   "cell_type": "code",
   "execution_count": 305,
   "id": "9e8384e0-d71c-4016-a932-e88fb8e0188f",
   "metadata": {},
   "outputs": [
    {
     "data": {
      "text/plain": [
       "(4969, 7)"
      ]
     },
     "execution_count": 305,
     "metadata": {},
     "output_type": "execute_result"
    }
   ],
   "source": [
    "data.shape"
   ]
  },
  {
   "cell_type": "code",
   "execution_count": 306,
   "id": "14c96041-1282-4fda-95c9-8a7763ee4433",
   "metadata": {},
   "outputs": [
    {
     "data": {
      "text/plain": [
       "Index([  12,   39,  411,  844, 1271, 1459, 1597, 2025, 2092, 2242, 2597, 3069,\n",
       "       3144, 3183, 4449, 4716, 4744, 4844, 4855],\n",
       "      dtype='int64')"
      ]
     },
     "execution_count": 306,
     "metadata": {},
     "output_type": "execute_result"
    }
   ],
   "source": [
    "data[data['Avg. Area Income']<40000].index"
   ]
  },
  {
   "cell_type": "code",
   "execution_count": 307,
   "id": "434890b4-3909-470f-b70b-947e2e3324a4",
   "metadata": {
    "scrolled": true
   },
   "outputs": [],
   "source": [
    "data.drop(index=[  12,   39,  411,  844, 1271, 1459, 1597, 2025, 2092, 2242, 2597, 3069,\n",
    "       3144, 3183, 4449, 4716, 4744, 4844, 4855],axis=0,inplace=True)\n"
   ]
  },
  {
   "cell_type": "code",
   "execution_count": 308,
   "id": "099d515a-70e6-48f7-931c-627a8aef82fb",
   "metadata": {},
   "outputs": [
    {
     "data": {
      "text/plain": [
       "(4950, 7)"
      ]
     },
     "execution_count": 308,
     "metadata": {},
     "output_type": "execute_result"
    }
   ],
   "source": [
    "data.shape"
   ]
  },
  {
   "cell_type": "code",
   "execution_count": 309,
   "id": "c4443de0-bdd5-43ff-a50b-b66c4eebd6be",
   "metadata": {
    "scrolled": true
   },
   "outputs": [
    {
     "data": {
      "text/plain": [
       "<Axes: ylabel='Avg. Area Income'>"
      ]
     },
     "execution_count": 309,
     "metadata": {},
     "output_type": "execute_result"
    },
    {
     "data": {
      "image/png": "[encoded data removed]",
      "text/plain": [
       "<Figure size 1200x800 with 1 Axes>"
      ]
     },
     "metadata": {},
     "output_type": "display_data"
    }
   ],
   "source": [
    "sns.set(rc={'figure.figsize':(12,8)})\n",
    "sns.boxplot(data['Avg. Area Income'])"
   ]
  },
  {
   "cell_type": "code",
   "execution_count": 310,
   "id": "e7b92cce-b919-414f-84c9-d6a8c310f35f",
   "metadata": {},
   "outputs": [
    {
     "data": {
      "text/plain": [
       "Index([214, 263, 1357, 1606, 1987, 2915, 3077, 3141], dtype='int64')"
      ]
     },
     "execution_count": 310,
     "metadata": {},
     "output_type": "execute_result"
    }
   ],
   "source": [
    "data[data['Avg. Area Income']<41000].index"
   ]
  },
  {
   "cell_type": "code",
   "execution_count": 311,
   "id": "988a9469-887c-4265-a420-6b15a6c94c22",
   "metadata": {},
   "outputs": [],
   "source": [
    "data.drop(index=[214, 263, 1357, 1606, 1987, 2915, 3077, 3141],axis=0,inplace=True)"
   ]
  },
  {
   "cell_type": "code",
   "execution_count": 312,
   "id": "c8b85236-9e11-4b38-ba62-240113c13e73",
   "metadata": {},
   "outputs": [
    {
     "data": {
      "text/plain": [
       "(4942, 7)"
      ]
     },
     "execution_count": 312,
     "metadata": {},
     "output_type": "execute_result"
    }
   ],
   "source": [
    "data.shape"
   ]
  },
  {
   "cell_type": "code",
   "execution_count": 313,
   "id": "c8d85870-a4c6-4209-b683-bfc5867c4352",
   "metadata": {
    "scrolled": true
   },
   "outputs": [
    {
     "data": {
      "image/png": "[encoded data removed]",
      "text/plain": [
       "<Figure size 1200x800 with 1 Axes>"
      ]
     },
     "metadata": {},
     "output_type": "display_data"
    }
   ],
   "source": [
    "sns.set(rc={'figure.figsize':(12,8)})\n",
    "sns.boxplot(data['Avg. Area Income'])\n",
    "plt.show()"
   ]
  },
  {
   "cell_type": "markdown",
   "id": "6a3a72da-42bb-42b6-9464-839cc0f6ac58",
   "metadata": {},
   "source": [
    "OUTLIERS OF Avg. Area House Age"
   ]
  },
  {
   "cell_type": "code",
   "execution_count": 314,
   "id": "5576398d-53a2-4d86-a027-c1bf6bc21a95",
   "metadata": {
    "scrolled": true
   },
   "outputs": [
    {
     "data": {
      "image/png": "[encoded data removed]",
      "text/plain": [
       "<Figure size 1200x800 with 1 Axes>"
      ]
     },
     "metadata": {},
     "output_type": "display_data"
    }
   ],
   "source": [
    "sns.set(rc={'figure.figsize':(12,8)})\n",
    "sns.boxplot(data['Avg. Area House Age'])\n",
    "plt.show()\n"
   ]
  },
  {
   "cell_type": "code",
   "execution_count": 315,
   "id": "f1740da8-4501-4258-a45a-83a50a610ef6",
   "metadata": {},
   "outputs": [
    {
     "data": {
      "text/plain": [
       "Index([ 847, 1074, 1166, 1220, 1285, 1494, 1628, 1726, 1859, 2366, 2432, 2465,\n",
       "       2974, 3831, 3904, 4324, 4429, 4488, 4565],\n",
       "      dtype='int64')"
      ]
     },
     "execution_count": 315,
     "metadata": {},
     "output_type": "execute_result"
    }
   ],
   "source": [
    "data[data['Avg. Area House Age']<3.4].index"
   ]
  },
  {
   "cell_type": "code",
   "execution_count": 316,
   "id": "61d0ecee-a09a-4b1f-9355-7e6d47285b13",
   "metadata": {},
   "outputs": [
    {
     "data": {
      "text/plain": [
       "Index([918, 1091, 1777, 1855, 2898, 3138, 3388, 3698, 3989, 4859, 4978], dtype='int64')"
      ]
     },
     "execution_count": 316,
     "metadata": {},
     "output_type": "execute_result"
    }
   ],
   "source": [
    "data[data['Avg. Area House Age']>8.6].index"
   ]
  },
  {
   "cell_type": "code",
   "execution_count": 317,
   "id": "35770a88-24ff-416c-8bcd-6dc3ab8a8484",
   "metadata": {},
   "outputs": [],
   "source": [
    "data.drop(index=[847, 1074, 1166, 1220, 1285, 1494, 1628, 1726, 1859, 2366, 2432, 2465,\n",
    "       2974, 3831, 3904, 4324, 4429, 4488, 4565,918, 1091, 1777, 1855, 2898, 3138, 3388, 3698, 3989, 4859, 4978],axis=0,inplace=True)"
   ]
  },
  {
   "cell_type": "code",
   "execution_count": 318,
   "id": "0234d9ba-f694-48a8-af91-0d3223fba56e",
   "metadata": {},
   "outputs": [
    {
     "data": {
      "text/plain": [
       "(4912, 7)"
      ]
     },
     "execution_count": 318,
     "metadata": {},
     "output_type": "execute_result"
    }
   ],
   "source": [
    "data.shape"
   ]
  },
  {
   "cell_type": "code",
   "execution_count": 319,
   "id": "3d16c68f-d1ea-4b21-9a95-348c3b317c91",
   "metadata": {},
   "outputs": [
    {
     "data": {
      "image/png": "[encoded data removed]",
      "text/plain": [
       "<Figure size 1200x800 with 1 Axes>"
      ]
     },
     "metadata": {},
     "output_type": "display_data"
    }
   ],
   "source": [
    "sns.set(rc={'figure.figsize':(12,8)})\n",
    "sns.boxplot(data['Avg. Area House Age'])\n",
    "plt.show()"
   ]
  },
  {
   "cell_type": "markdown",
   "id": "0873446b-3f5c-4901-887c-f9b2293c1b43",
   "metadata": {},
   "source": [
    "OUTLIERS OF Avg. Area Number of Rooms\r\n"
   ]
  },
  {
   "cell_type": "code",
   "execution_count": 320,
   "id": "56e5ddad-e6c3-4f42-bfdb-e0d6f85a477d",
   "metadata": {},
   "outputs": [
    {
     "data": {
      "image/png": "[encoded data removed]",
      "text/plain": [
       "<Figure size 1200x800 with 1 Axes>"
      ]
     },
     "metadata": {},
     "output_type": "display_data"
    }
   ],
   "source": [
    "sns.set(rc={'figure.figsize':(12,8)})\n",
    "sns.boxplot(data['Avg. Area Number of Rooms'])\n",
    "plt.show()"
   ]
  },
  {
   "cell_type": "code",
   "execution_count": 321,
   "id": "198e262c-a6ae-4fe9-aa57-5e7280769c0a",
   "metadata": {},
   "outputs": [
    {
     "data": {
      "text/plain": [
       "Index([ 238,  465, 1531, 1536, 1845, 2066, 2503, 2676, 3039, 3336, 3466, 3806,\n",
       "       3855, 4777],\n",
       "      dtype='int64')"
      ]
     },
     "execution_count": 321,
     "metadata": {},
     "output_type": "execute_result"
    }
   ],
   "source": [
    "data[data['Avg. Area Number of Rooms']>9.7].index"
   ]
  },
  {
   "cell_type": "code",
   "execution_count": 322,
   "id": "f0c12950-782c-49de-9efd-950b6705ddb3",
   "metadata": {},
   "outputs": [
    {
     "data": {
      "text/plain": [
       "Index([  28,  496, 1110, 1423, 1757, 1799, 2120, 2771, 2963, 3600, 3803, 3902,\n",
       "       3922, 4318, 4412, 4631],\n",
       "      dtype='int64')"
      ]
     },
     "execution_count": 322,
     "metadata": {},
     "output_type": "execute_result"
    }
   ],
   "source": [
    "data[data['Avg. Area Number of Rooms']<4.3].index"
   ]
  },
  {
   "cell_type": "code",
   "execution_count": 323,
   "id": "6ae92930-5529-4073-b9e8-0932f8ae6063",
   "metadata": {},
   "outputs": [],
   "source": [
    "data.drop(index=[238,  465, 1531, 1536, 1845, 2066, 2503, 2676, 3039, 3336, 3466, 3806,\n",
    "       3855, 4777,28,  496, 1110, 1423, 1757, 1799, 2120, 2771, 2963, 3600, 3803, 3902,\n",
    "       3922, 4318, 4412, 4631],axis=0,inplace=True)"
   ]
  },
  {
   "cell_type": "code",
   "execution_count": 324,
   "id": "3e7e125f-fcef-4be1-b96e-c772962d119d",
   "metadata": {},
   "outputs": [
    {
     "data": {
      "text/plain": [
       "(4882, 7)"
      ]
     },
     "execution_count": 324,
     "metadata": {},
     "output_type": "execute_result"
    }
   ],
   "source": [
    "data.shape"
   ]
  },
  {
   "cell_type": "code",
   "execution_count": 325,
   "id": "c2891dad-7030-458d-a269-e775163d3266",
   "metadata": {
    "scrolled": true
   },
   "outputs": [
    {
     "data": {
      "image/png": "[encoded data removed]",
      "text/plain": [
       "<Figure size 1200x800 with 1 Axes>"
      ]
     },
     "metadata": {},
     "output_type": "display_data"
    }
   ],
   "source": [
    "sns.set(rc={'figure.figsize':(12,8)})\n",
    "sns.boxplot(data['Avg. Area Number of Rooms'])\n",
    "plt.show()"
   ]
  },
  {
   "cell_type": "code",
   "execution_count": 326,
   "id": "7e7f23a0-6b53-4081-ba7b-b4293b75d21b",
   "metadata": {},
   "outputs": [
    {
     "data": {
      "text/plain": [
       "Index([981, 3475, 4448, 4748], dtype='int64')"
      ]
     },
     "execution_count": 326,
     "metadata": {},
     "output_type": "execute_result"
    }
   ],
   "source": [
    "data[data['Avg. Area Number of Rooms']>9.65].index"
   ]
  },
  {
   "cell_type": "code",
   "execution_count": 327,
   "id": "f859d1a6-cc60-4a90-89c8-d45e6773cca9",
   "metadata": {},
   "outputs": [],
   "source": [
    "data.drop(index=[981, 3475, 4448, 4748],axis=0,inplace=True)"
   ]
  },
  {
   "cell_type": "code",
   "execution_count": 328,
   "id": "9d4aa81a-ad9c-4fc7-a7b5-7c8acd2a4c63",
   "metadata": {},
   "outputs": [
    {
     "data": {
      "image/png": "[encoded data removed]",
      "text/plain": [
       "<Figure size 1200x800 with 1 Axes>"
      ]
     },
     "metadata": {},
     "output_type": "display_data"
    }
   ],
   "source": [
    "sns.set(rc={'figure.figsize':(12,8)})\n",
    "sns.boxplot(data['Avg. Area Number of Rooms'])\n",
    "plt.show()"
   ]
  },
  {
   "cell_type": "markdown",
   "id": "1301fe58-d887-4085-a696-0b30959501ac",
   "metadata": {},
   "source": [
    "OUTLIERS OF Avg. Area Number of Bedrooms"
   ]
  },
  {
   "cell_type": "code",
   "execution_count": 329,
   "id": "0abf8a73-dfce-4b3f-83e5-de0490151d4e",
   "metadata": {},
   "outputs": [
    {
     "data": {
      "image/png": "[encoded data removed]",
      "text/plain": [
       "<Figure size 1200x800 with 1 Axes>"
      ]
     },
     "metadata": {},
     "output_type": "display_data"
    }
   ],
   "source": [
    "sns.set(rc={'figure.figsize':(12,8)})\n",
    "sns.boxplot(data['Avg. Area Number of Bedrooms'])\n",
    "plt.show()"
   ]
  },
  {
   "cell_type": "code",
   "execution_count": 330,
   "id": "fb9e0d34-70d4-4a79-b0e1-bf80de7f2f77",
   "metadata": {},
   "outputs": [],
   "source": [
    "#no outliers"
   ]
  },
  {
   "cell_type": "markdown",
   "id": "160718e6-3cab-4133-afd6-f6ab7ac54807",
   "metadata": {},
   "source": [
    "OUTLIERS OF Area Population"
   ]
  },
  {
   "cell_type": "code",
   "execution_count": 331,
   "id": "39143597-b675-4443-978b-9f74c7929930",
   "metadata": {},
   "outputs": [
    {
     "data": {
      "image/png": "[encoded data removed]",
      "text/plain": [
       "<Figure size 1200x800 with 1 Axes>"
      ]
     },
     "metadata": {},
     "output_type": "display_data"
    }
   ],
   "source": [
    "sns.set(rc={'figure.figsize':(12,8)})\n",
    "sns.boxplot(data['Area Population'])\n",
    "plt.show()"
   ]
  },
  {
   "cell_type": "code",
   "execution_count": 332,
   "id": "b7c8647c-19f3-4897-835a-96fd35690efd",
   "metadata": {},
   "outputs": [
    {
     "data": {
      "text/plain": [
       "Index([ 228,  353,  643, 1234, 1361, 1595, 1965, 2108, 2173, 2380, 2422, 2603,\n",
       "       2839, 3134, 3387, 3442, 3578, 3991, 4393, 4487, 4786, 4803],\n",
       "      dtype='int64')"
      ]
     },
     "execution_count": 332,
     "metadata": {},
     "output_type": "execute_result"
    }
   ],
   "source": [
    "data[data['Area Population']>62000].index"
   ]
  },
  {
   "cell_type": "code",
   "execution_count": 333,
   "id": "ef33f975-8bc0-49a9-9236-ef79b3d62081",
   "metadata": {},
   "outputs": [
    {
     "data": {
      "text/plain": [
       "Index([ 105,  314,  349, 1530, 2299, 2392, 2534, 2756, 2829, 3120, 3540, 4182,\n",
       "       4290, 4491, 4684],\n",
       "      dtype='int64')"
      ]
     },
     "execution_count": 333,
     "metadata": {},
     "output_type": "execute_result"
    }
   ],
   "source": [
    "data[data['Area Population']<10000].index"
   ]
  },
  {
   "cell_type": "code",
   "execution_count": 334,
   "id": "e746f620-f8d6-4e89-b63d-bb8108199e76",
   "metadata": {},
   "outputs": [],
   "source": [
    "data.drop(index=[228,  353,  643, 1234, 1361, 1595, 1965, 2108, 2173, 2380, 2422, 2603,\n",
    "       2839, 3134, 3387, 3442, 3578, 3991, 4393, 4487, 4786, 4803,105,  314,  349, 1530, 2299, 2392,\n",
    "                 2534, 2756, 2829, 3120, 3540, 4182,4290, 4491, 4684],axis=0,inplace=True)"
   ]
  },
  {
   "cell_type": "code",
   "execution_count": 335,
   "id": "ea6860a1-c0b2-4335-b0e8-c0a2265b9c4e",
   "metadata": {},
   "outputs": [
    {
     "data": {
      "text/plain": [
       "(4841, 7)"
      ]
     },
     "execution_count": 335,
     "metadata": {},
     "output_type": "execute_result"
    }
   ],
   "source": [
    "data.shape"
   ]
  },
  {
   "cell_type": "code",
   "execution_count": 336,
   "id": "b7afd257-6c6e-4737-86e6-98757bbcf021",
   "metadata": {},
   "outputs": [
    {
     "data": {
      "image/png": "[encoded data removed]",
      "text/plain": [
       "<Figure size 1200x800 with 1 Axes>"
      ]
     },
     "metadata": {},
     "output_type": "display_data"
    }
   ],
   "source": [
    "sns.set(rc={'figure.figsize':(12,8)})\n",
    "sns.boxplot(data['Area Population'])\n",
    "plt.show()"
   ]
  },
  {
   "cell_type": "markdown",
   "id": "cae57076-122b-4b58-aea3-2c82dc1a52e2",
   "metadata": {},
   "source": [
    "DUPLICATED DATA"
   ]
  },
  {
   "cell_type": "code",
   "execution_count": 337,
   "id": "3d77da74-c773-4052-b88e-abe8ff8ad036",
   "metadata": {},
   "outputs": [
    {
     "data": {
      "text/plain": [
       "0"
      ]
     },
     "execution_count": 337,
     "metadata": {},
     "output_type": "execute_result"
    }
   ],
   "source": [
    "data.duplicated().sum()"
   ]
  },
  {
   "cell_type": "code",
   "execution_count": 338,
   "id": "53614a09-28f8-47e4-ad74-f78faaa8ef9f",
   "metadata": {},
   "outputs": [],
   "source": [
    "#no duplicate data"
   ]
  },
  {
   "cell_type": "code",
   "execution_count": 339,
   "id": "1d1f3b70-17ee-49e6-af39-ede15212dd0f",
   "metadata": {},
   "outputs": [],
   "source": [
    "p=data.drop(columns='Address',axis=1)"
   ]
  },
  {
   "cell_type": "code",
   "execution_count": 340,
   "id": "2b185e97-a0c7-4e3b-b26c-b973c8b11aa6",
   "metadata": {},
   "outputs": [],
   "source": [
    "#to drop the address beacuse it has all unique values \n",
    "#also it will not affect the price prediction"
   ]
  },
  {
   "cell_type": "markdown",
   "id": "26774cae-ef11-4b91-8729-c40378372df2",
   "metadata": {},
   "source": [
    "CORELATIONAL MATRIX"
   ]
  },
  {
   "cell_type": "code",
   "execution_count": 341,
   "id": "fd562ae8-485b-4c43-a3a2-47d02c75868e",
   "metadata": {},
   "outputs": [
    {
     "data": {
      "text/html": [
       "<div>\n",
       "<style scoped>\n",
       "    .dataframe tbody tr th:only-of-type {\n",
       "        vertical-align: middle;\n",
       "    }\n",
       "\n",
       "    .dataframe tbody tr th {\n",
       "        vertical-align: top;\n",
       "    }\n",
       "\n",
       "    .dataframe thead th {\n",
       "        text-align: right;\n",
       "    }\n",
       "</style>\n",
       "<table border=\"1\" class=\"dataframe\">\n",
       "  <thead>\n",
       "    <tr style=\"text-align: right;\">\n",
       "      <th></th>\n",
       "      <th>Avg. Area Income</th>\n",
       "      <th>Avg. Area House Age</th>\n",
       "      <th>Avg. Area Number of Rooms</th>\n",
       "      <th>Avg. Area Number of Bedrooms</th>\n",
       "      <th>Area Population</th>\n",
       "      <th>Price</th>\n",
       "    </tr>\n",
       "  </thead>\n",
       "  <tbody>\n",
       "    <tr>\n",
       "      <th>Avg. Area Income</th>\n",
       "      <td>1.000000</td>\n",
       "      <td>-0.006369</td>\n",
       "      <td>-0.017580</td>\n",
       "      <td>0.016345</td>\n",
       "      <td>-0.003006</td>\n",
       "      <td>0.634511</td>\n",
       "    </tr>\n",
       "    <tr>\n",
       "      <th>Avg. Area House Age</th>\n",
       "      <td>-0.006369</td>\n",
       "      <td>1.000000</td>\n",
       "      <td>-0.009072</td>\n",
       "      <td>0.007165</td>\n",
       "      <td>-0.016361</td>\n",
       "      <td>0.454495</td>\n",
       "    </tr>\n",
       "    <tr>\n",
       "      <th>Avg. Area Number of Rooms</th>\n",
       "      <td>-0.017580</td>\n",
       "      <td>-0.009072</td>\n",
       "      <td>1.000000</td>\n",
       "      <td>0.468934</td>\n",
       "      <td>0.003008</td>\n",
       "      <td>0.333553</td>\n",
       "    </tr>\n",
       "    <tr>\n",
       "      <th>Avg. Area Number of Bedrooms</th>\n",
       "      <td>0.016345</td>\n",
       "      <td>0.007165</td>\n",
       "      <td>0.468934</td>\n",
       "      <td>1.000000</td>\n",
       "      <td>-0.020702</td>\n",
       "      <td>0.173563</td>\n",
       "    </tr>\n",
       "    <tr>\n",
       "      <th>Area Population</th>\n",
       "      <td>-0.003006</td>\n",
       "      <td>-0.016361</td>\n",
       "      <td>0.003008</td>\n",
       "      <td>-0.020702</td>\n",
       "      <td>1.000000</td>\n",
       "      <td>0.413859</td>\n",
       "    </tr>\n",
       "    <tr>\n",
       "      <th>Price</th>\n",
       "      <td>0.634511</td>\n",
       "      <td>0.454495</td>\n",
       "      <td>0.333553</td>\n",
       "      <td>0.173563</td>\n",
       "      <td>0.413859</td>\n",
       "      <td>1.000000</td>\n",
       "    </tr>\n",
       "  </tbody>\n",
       "</table>\n",
       "</div>"
      ],
      "text/plain": [
       "                              Avg. Area Income  Avg. Area House Age  \\\n",
       "Avg. Area Income                      1.000000            -0.006369   \n",
       "Avg. Area House Age                  -0.006369             1.000000   \n",
       "Avg. Area Number of Rooms            -0.017580            -0.009072   \n",
       "Avg. Area Number of Bedrooms          0.016345             0.007165   \n",
       "Area Population                      -0.003006            -0.016361   \n",
       "Price                                 0.634511             0.454495   \n",
       "\n",
       "                              Avg. Area Number of Rooms  \\\n",
       "Avg. Area Income                              -0.017580   \n",
       "Avg. Area House Age                           -0.009072   \n",
       "Avg. Area Number of Rooms                      1.000000   \n",
       "Avg. Area Number of Bedrooms                   0.468934   \n",
       "Area Population                                0.003008   \n",
       "Price                                          0.333553   \n",
       "\n",
       "                              Avg. Area Number of Bedrooms  Area Population  \\\n",
       "Avg. Area Income                                  0.016345        -0.003006   \n",
       "Avg. Area House Age                               0.007165        -0.016361   \n",
       "Avg. Area Number of Rooms                         0.468934         0.003008   \n",
       "Avg. Area Number of Bedrooms                      1.000000        -0.020702   \n",
       "Area Population                                  -0.020702         1.000000   \n",
       "Price                                             0.173563         0.413859   \n",
       "\n",
       "                                 Price  \n",
       "Avg. Area Income              0.634511  \n",
       "Avg. Area House Age           0.454495  \n",
       "Avg. Area Number of Rooms     0.333553  \n",
       "Avg. Area Number of Bedrooms  0.173563  \n",
       "Area Population               0.413859  \n",
       "Price                         1.000000  "
      ]
     },
     "execution_count": 341,
     "metadata": {},
     "output_type": "execute_result"
    }
   ],
   "source": [
    "p.corr()"
   ]
  },
  {
   "cell_type": "code",
   "execution_count": 342,
   "id": "c9133240-a2e8-446e-8493-b34d1f4042de",
   "metadata": {},
   "outputs": [
    {
     "data": {
      "text/plain": [
       "<Axes: >"
      ]
     },
     "execution_count": 342,
     "metadata": {},
     "output_type": "execute_result"
    },
    {
     "data": {
      "image/png": "[encoded data removed]",
      "text/plain": [
       "<Figure size 1200x800 with 2 Axes>"
      ]
     },
     "metadata": {},
     "output_type": "display_data"
    }
   ],
   "source": [
    "sns.heatmap(p.corr(),annot=True)"
   ]
  },
  {
   "cell_type": "code",
   "execution_count": 343,
   "id": "8279e8dd-c99d-4ecd-986a-f4b01ab6c544",
   "metadata": {},
   "outputs": [],
   "source": [
    "#acc to this every feature is relevant to price prediction"
   ]
  },
  {
   "cell_type": "markdown",
   "id": "f33e914d-41e1-4616-b414-52ba9c59e9a9",
   "metadata": {},
   "source": [
    "MODEL BUILDING"
   ]
  },
  {
   "cell_type": "code",
   "execution_count": 344,
   "id": "1c27f4a9-c4a7-40da-8893-b455dd5a126f",
   "metadata": {},
   "outputs": [],
   "source": [
    "import sklearn\n",
    "from sklearn.model_selection import train_test_split\n",
    "from sklearn.linear_model import LinearRegression\n",
    "from sklearn.metrics import mean_squared_error, mean_absolute_error,r2_score"
   ]
  },
  {
   "cell_type": "code",
   "execution_count": 345,
   "id": "8fa94588-f888-4f1a-bbdb-27275a4c6858",
   "metadata": {},
   "outputs": [
    {
     "data": {
      "text/html": [
       "<div>\n",
       "<style scoped>\n",
       "    .dataframe tbody tr th:only-of-type {\n",
       "        vertical-align: middle;\n",
       "    }\n",
       "\n",
       "    .dataframe tbody tr th {\n",
       "        vertical-align: top;\n",
       "    }\n",
       "\n",
       "    .dataframe thead th {\n",
       "        text-align: right;\n",
       "    }\n",
       "</style>\n",
       "<table border=\"1\" class=\"dataframe\">\n",
       "  <thead>\n",
       "    <tr style=\"text-align: right;\">\n",
       "      <th></th>\n",
       "      <th>Avg. Area Income</th>\n",
       "      <th>Avg. Area House Age</th>\n",
       "      <th>Avg. Area Number of Rooms</th>\n",
       "      <th>Avg. Area Number of Bedrooms</th>\n",
       "      <th>Area Population</th>\n",
       "      <th>Price</th>\n",
       "    </tr>\n",
       "  </thead>\n",
       "  <tbody>\n",
       "    <tr>\n",
       "      <th>0</th>\n",
       "      <td>79545.458574</td>\n",
       "      <td>5.682861</td>\n",
       "      <td>7.009188</td>\n",
       "      <td>4.09</td>\n",
       "      <td>23086.800503</td>\n",
       "      <td>1.059034e+06</td>\n",
       "    </tr>\n",
       "    <tr>\n",
       "      <th>1</th>\n",
       "      <td>79248.642455</td>\n",
       "      <td>6.002900</td>\n",
       "      <td>6.730821</td>\n",
       "      <td>3.09</td>\n",
       "      <td>40173.072174</td>\n",
       "      <td>1.505891e+06</td>\n",
       "    </tr>\n",
       "    <tr>\n",
       "      <th>2</th>\n",
       "      <td>61287.067179</td>\n",
       "      <td>5.865890</td>\n",
       "      <td>8.512727</td>\n",
       "      <td>5.13</td>\n",
       "      <td>36882.159400</td>\n",
       "      <td>1.058988e+06</td>\n",
       "    </tr>\n",
       "    <tr>\n",
       "      <th>3</th>\n",
       "      <td>63345.240046</td>\n",
       "      <td>7.188236</td>\n",
       "      <td>5.586729</td>\n",
       "      <td>3.26</td>\n",
       "      <td>34310.242831</td>\n",
       "      <td>1.260617e+06</td>\n",
       "    </tr>\n",
       "    <tr>\n",
       "      <th>4</th>\n",
       "      <td>59982.197226</td>\n",
       "      <td>5.040555</td>\n",
       "      <td>7.839388</td>\n",
       "      <td>4.23</td>\n",
       "      <td>26354.109472</td>\n",
       "      <td>6.309435e+05</td>\n",
       "    </tr>\n",
       "  </tbody>\n",
       "</table>\n",
       "</div>"
      ],
      "text/plain": [
       "   Avg. Area Income  Avg. Area House Age  Avg. Area Number of Rooms  \\\n",
       "0      79545.458574             5.682861                   7.009188   \n",
       "1      79248.642455             6.002900                   6.730821   \n",
       "2      61287.067179             5.865890                   8.512727   \n",
       "3      63345.240046             7.188236                   5.586729   \n",
       "4      59982.197226             5.040555                   7.839388   \n",
       "\n",
       "   Avg. Area Number of Bedrooms  Area Population         Price  \n",
       "0                          4.09     23086.800503  1.059034e+06  \n",
       "1                          3.09     40173.072174  1.505891e+06  \n",
       "2                          5.13     36882.159400  1.058988e+06  \n",
       "3                          3.26     34310.242831  1.260617e+06  \n",
       "4                          4.23     26354.109472  6.309435e+05  "
      ]
     },
     "execution_count": 345,
     "metadata": {},
     "output_type": "execute_result"
    }
   ],
   "source": [
    "p.head()"
   ]
  },
  {
   "cell_type": "markdown",
   "id": "beb72f60-9b6e-42d7-af52-6d6f96f49c48",
   "metadata": {},
   "source": [
    "SEPARATION OF INDEPENDENT AND DEPENDENT VARIABLE"
   ]
  },
  {
   "cell_type": "code",
   "execution_count": 346,
   "id": "afc1c909-df23-495f-a012-d55d7138822e",
   "metadata": {
    "scrolled": true
   },
   "outputs": [
    {
     "data": {
      "text/html": [
       "<div>\n",
       "<style scoped>\n",
       "    .dataframe tbody tr th:only-of-type {\n",
       "        vertical-align: middle;\n",
       "    }\n",
       "\n",
       "    .dataframe tbody tr th {\n",
       "        vertical-align: top;\n",
       "    }\n",
       "\n",
       "    .dataframe thead th {\n",
       "        text-align: right;\n",
       "    }\n",
       "</style>\n",
       "<table border=\"1\" class=\"dataframe\">\n",
       "  <thead>\n",
       "    <tr style=\"text-align: right;\">\n",
       "      <th></th>\n",
       "      <th>Avg. Area Income</th>\n",
       "      <th>Avg. Area House Age</th>\n",
       "      <th>Avg. Area Number of Rooms</th>\n",
       "      <th>Avg. Area Number of Bedrooms</th>\n",
       "      <th>Area Population</th>\n",
       "    </tr>\n",
       "  </thead>\n",
       "  <tbody>\n",
       "    <tr>\n",
       "      <th>0</th>\n",
       "      <td>79545.458574</td>\n",
       "      <td>5.682861</td>\n",
       "      <td>7.009188</td>\n",
       "      <td>4.09</td>\n",
       "      <td>23086.800503</td>\n",
       "    </tr>\n",
       "    <tr>\n",
       "      <th>1</th>\n",
       "      <td>79248.642455</td>\n",
       "      <td>6.002900</td>\n",
       "      <td>6.730821</td>\n",
       "      <td>3.09</td>\n",
       "      <td>40173.072174</td>\n",
       "    </tr>\n",
       "    <tr>\n",
       "      <th>2</th>\n",
       "      <td>61287.067179</td>\n",
       "      <td>5.865890</td>\n",
       "      <td>8.512727</td>\n",
       "      <td>5.13</td>\n",
       "      <td>36882.159400</td>\n",
       "    </tr>\n",
       "    <tr>\n",
       "      <th>3</th>\n",
       "      <td>63345.240046</td>\n",
       "      <td>7.188236</td>\n",
       "      <td>5.586729</td>\n",
       "      <td>3.26</td>\n",
       "      <td>34310.242831</td>\n",
       "    </tr>\n",
       "    <tr>\n",
       "      <th>4</th>\n",
       "      <td>59982.197226</td>\n",
       "      <td>5.040555</td>\n",
       "      <td>7.839388</td>\n",
       "      <td>4.23</td>\n",
       "      <td>26354.109472</td>\n",
       "    </tr>\n",
       "    <tr>\n",
       "      <th>...</th>\n",
       "      <td>...</td>\n",
       "      <td>...</td>\n",
       "      <td>...</td>\n",
       "      <td>...</td>\n",
       "      <td>...</td>\n",
       "    </tr>\n",
       "    <tr>\n",
       "      <th>4995</th>\n",
       "      <td>60567.944140</td>\n",
       "      <td>7.830362</td>\n",
       "      <td>6.137356</td>\n",
       "      <td>3.46</td>\n",
       "      <td>22837.361035</td>\n",
       "    </tr>\n",
       "    <tr>\n",
       "      <th>4996</th>\n",
       "      <td>78491.275435</td>\n",
       "      <td>6.999135</td>\n",
       "      <td>6.576763</td>\n",
       "      <td>4.02</td>\n",
       "      <td>25616.115489</td>\n",
       "    </tr>\n",
       "    <tr>\n",
       "      <th>4997</th>\n",
       "      <td>63390.686886</td>\n",
       "      <td>7.250591</td>\n",
       "      <td>4.805081</td>\n",
       "      <td>2.13</td>\n",
       "      <td>33266.145490</td>\n",
       "    </tr>\n",
       "    <tr>\n",
       "      <th>4998</th>\n",
       "      <td>68001.331235</td>\n",
       "      <td>5.534388</td>\n",
       "      <td>7.130144</td>\n",
       "      <td>5.44</td>\n",
       "      <td>42625.620156</td>\n",
       "    </tr>\n",
       "    <tr>\n",
       "      <th>4999</th>\n",
       "      <td>65510.581804</td>\n",
       "      <td>5.992305</td>\n",
       "      <td>6.792336</td>\n",
       "      <td>4.07</td>\n",
       "      <td>46501.283803</td>\n",
       "    </tr>\n",
       "  </tbody>\n",
       "</table>\n",
       "<p>4841 rows × 5 columns</p>\n",
       "</div>"
      ],
      "text/plain": [
       "      Avg. Area Income  Avg. Area House Age  Avg. Area Number of Rooms  \\\n",
       "0         79545.458574             5.682861                   7.009188   \n",
       "1         79248.642455             6.002900                   6.730821   \n",
       "2         61287.067179             5.865890                   8.512727   \n",
       "3         63345.240046             7.188236                   5.586729   \n",
       "4         59982.197226             5.040555                   7.839388   \n",
       "...                ...                  ...                        ...   \n",
       "4995      60567.944140             7.830362                   6.137356   \n",
       "4996      78491.275435             6.999135                   6.576763   \n",
       "4997      63390.686886             7.250591                   4.805081   \n",
       "4998      68001.331235             5.534388                   7.130144   \n",
       "4999      65510.581804             5.992305                   6.792336   \n",
       "\n",
       "      Avg. Area Number of Bedrooms  Area Population  \n",
       "0                             4.09     23086.800503  \n",
       "1                             3.09     40173.072174  \n",
       "2                             5.13     36882.159400  \n",
       "3                             3.26     34310.242831  \n",
       "4                             4.23     26354.109472  \n",
       "...                            ...              ...  \n",
       "4995                          3.46     22837.361035  \n",
       "4996                          4.02     25616.115489  \n",
       "4997                          2.13     33266.145490  \n",
       "4998                          5.44     42625.620156  \n",
       "4999                          4.07     46501.283803  \n",
       "\n",
       "[4841 rows x 5 columns]"
      ]
     },
     "execution_count": 346,
     "metadata": {},
     "output_type": "execute_result"
    }
   ],
   "source": [
    "X=p.iloc[:,:5]\n",
    "X"
   ]
  },
  {
   "cell_type": "code",
   "execution_count": 347,
   "id": "a4cf7ff1-6f49-4387-9326-a2d8d667b6cd",
   "metadata": {},
   "outputs": [
    {
     "data": {
      "text/html": [
       "<div>\n",
       "<style scoped>\n",
       "    .dataframe tbody tr th:only-of-type {\n",
       "        vertical-align: middle;\n",
       "    }\n",
       "\n",
       "    .dataframe tbody tr th {\n",
       "        vertical-align: top;\n",
       "    }\n",
       "\n",
       "    .dataframe thead th {\n",
       "        text-align: right;\n",
       "    }\n",
       "</style>\n",
       "<table border=\"1\" class=\"dataframe\">\n",
       "  <thead>\n",
       "    <tr style=\"text-align: right;\">\n",
       "      <th></th>\n",
       "      <th>Price</th>\n",
       "    </tr>\n",
       "  </thead>\n",
       "  <tbody>\n",
       "    <tr>\n",
       "      <th>0</th>\n",
       "      <td>1.059034e+06</td>\n",
       "    </tr>\n",
       "    <tr>\n",
       "      <th>1</th>\n",
       "      <td>1.505891e+06</td>\n",
       "    </tr>\n",
       "    <tr>\n",
       "      <th>2</th>\n",
       "      <td>1.058988e+06</td>\n",
       "    </tr>\n",
       "    <tr>\n",
       "      <th>3</th>\n",
       "      <td>1.260617e+06</td>\n",
       "    </tr>\n",
       "    <tr>\n",
       "      <th>4</th>\n",
       "      <td>6.309435e+05</td>\n",
       "    </tr>\n",
       "    <tr>\n",
       "      <th>...</th>\n",
       "      <td>...</td>\n",
       "    </tr>\n",
       "    <tr>\n",
       "      <th>4995</th>\n",
       "      <td>1.060194e+06</td>\n",
       "    </tr>\n",
       "    <tr>\n",
       "      <th>4996</th>\n",
       "      <td>1.482618e+06</td>\n",
       "    </tr>\n",
       "    <tr>\n",
       "      <th>4997</th>\n",
       "      <td>1.030730e+06</td>\n",
       "    </tr>\n",
       "    <tr>\n",
       "      <th>4998</th>\n",
       "      <td>1.198657e+06</td>\n",
       "    </tr>\n",
       "    <tr>\n",
       "      <th>4999</th>\n",
       "      <td>1.298950e+06</td>\n",
       "    </tr>\n",
       "  </tbody>\n",
       "</table>\n",
       "<p>4841 rows × 1 columns</p>\n",
       "</div>"
      ],
      "text/plain": [
       "             Price\n",
       "0     1.059034e+06\n",
       "1     1.505891e+06\n",
       "2     1.058988e+06\n",
       "3     1.260617e+06\n",
       "4     6.309435e+05\n",
       "...            ...\n",
       "4995  1.060194e+06\n",
       "4996  1.482618e+06\n",
       "4997  1.030730e+06\n",
       "4998  1.198657e+06\n",
       "4999  1.298950e+06\n",
       "\n",
       "[4841 rows x 1 columns]"
      ]
     },
     "execution_count": 347,
     "metadata": {},
     "output_type": "execute_result"
    }
   ],
   "source": [
    "y= p[['Price']]\n",
    "y"
   ]
  },
  {
   "cell_type": "code",
   "execution_count": 348,
   "id": "f575cd5f-75c5-4750-b7d5-04997c845dcc",
   "metadata": {},
   "outputs": [
    {
     "data": {
      "text/plain": [
       "(4841, 6)"
      ]
     },
     "execution_count": 348,
     "metadata": {},
     "output_type": "execute_result"
    }
   ],
   "source": [
    "p.shape"
   ]
  },
  {
   "cell_type": "code",
   "execution_count": 349,
   "id": "2d4b0036-86a8-4118-b32c-ca9f2ae9cf1b",
   "metadata": {},
   "outputs": [],
   "source": [
    "X_train, X_test, y_train, y_test = train_test_split(X, y, test_size=0.2, random_state=36)"
   ]
  },
  {
   "cell_type": "code",
   "execution_count": 350,
   "id": "f4913c37-3a60-459a-9d27-e390a3302bac",
   "metadata": {
    "scrolled": true
   },
   "outputs": [
    {
     "data": {
      "text/html": [
       "<div>\n",
       "<style scoped>\n",
       "    .dataframe tbody tr th:only-of-type {\n",
       "        vertical-align: middle;\n",
       "    }\n",
       "\n",
       "    .dataframe tbody tr th {\n",
       "        vertical-align: top;\n",
       "    }\n",
       "\n",
       "    .dataframe thead th {\n",
       "        text-align: right;\n",
       "    }\n",
       "</style>\n",
       "<table border=\"1\" class=\"dataframe\">\n",
       "  <thead>\n",
       "    <tr style=\"text-align: right;\">\n",
       "      <th></th>\n",
       "      <th>Avg. Area Income</th>\n",
       "      <th>Avg. Area House Age</th>\n",
       "      <th>Avg. Area Number of Rooms</th>\n",
       "      <th>Avg. Area Number of Bedrooms</th>\n",
       "      <th>Area Population</th>\n",
       "    </tr>\n",
       "  </thead>\n",
       "  <tbody>\n",
       "    <tr>\n",
       "      <th>1345</th>\n",
       "      <td>70315.429265</td>\n",
       "      <td>5.878218</td>\n",
       "      <td>6.486462</td>\n",
       "      <td>4.33</td>\n",
       "      <td>49697.932786</td>\n",
       "    </tr>\n",
       "    <tr>\n",
       "      <th>1323</th>\n",
       "      <td>80233.228301</td>\n",
       "      <td>5.334072</td>\n",
       "      <td>7.034766</td>\n",
       "      <td>5.30</td>\n",
       "      <td>26263.054963</td>\n",
       "    </tr>\n",
       "    <tr>\n",
       "      <th>4240</th>\n",
       "      <td>87062.457410</td>\n",
       "      <td>6.698442</td>\n",
       "      <td>6.945353</td>\n",
       "      <td>2.31</td>\n",
       "      <td>15007.772864</td>\n",
       "    </tr>\n",
       "    <tr>\n",
       "      <th>2889</th>\n",
       "      <td>69692.473326</td>\n",
       "      <td>4.614993</td>\n",
       "      <td>6.377311</td>\n",
       "      <td>4.27</td>\n",
       "      <td>41818.004910</td>\n",
       "    </tr>\n",
       "    <tr>\n",
       "      <th>2140</th>\n",
       "      <td>69155.645814</td>\n",
       "      <td>6.550911</td>\n",
       "      <td>7.392177</td>\n",
       "      <td>4.31</td>\n",
       "      <td>40808.136206</td>\n",
       "    </tr>\n",
       "    <tr>\n",
       "      <th>...</th>\n",
       "      <td>...</td>\n",
       "      <td>...</td>\n",
       "      <td>...</td>\n",
       "      <td>...</td>\n",
       "      <td>...</td>\n",
       "    </tr>\n",
       "    <tr>\n",
       "      <th>1310</th>\n",
       "      <td>67051.250265</td>\n",
       "      <td>4.457760</td>\n",
       "      <td>7.306146</td>\n",
       "      <td>3.18</td>\n",
       "      <td>39735.704488</td>\n",
       "    </tr>\n",
       "    <tr>\n",
       "      <th>3080</th>\n",
       "      <td>61482.978798</td>\n",
       "      <td>4.376969</td>\n",
       "      <td>7.794518</td>\n",
       "      <td>5.02</td>\n",
       "      <td>34993.841404</td>\n",
       "    </tr>\n",
       "    <tr>\n",
       "      <th>950</th>\n",
       "      <td>53161.832390</td>\n",
       "      <td>4.879254</td>\n",
       "      <td>8.678774</td>\n",
       "      <td>4.07</td>\n",
       "      <td>30535.255600</td>\n",
       "    </tr>\n",
       "    <tr>\n",
       "      <th>628</th>\n",
       "      <td>69312.981916</td>\n",
       "      <td>6.611320</td>\n",
       "      <td>7.562437</td>\n",
       "      <td>3.27</td>\n",
       "      <td>44237.121042</td>\n",
       "    </tr>\n",
       "    <tr>\n",
       "      <th>4899</th>\n",
       "      <td>62491.558334</td>\n",
       "      <td>7.201999</td>\n",
       "      <td>8.345120</td>\n",
       "      <td>5.40</td>\n",
       "      <td>24677.901155</td>\n",
       "    </tr>\n",
       "  </tbody>\n",
       "</table>\n",
       "<p>3872 rows × 5 columns</p>\n",
       "</div>"
      ],
      "text/plain": [
       "      Avg. Area Income  Avg. Area House Age  Avg. Area Number of Rooms  \\\n",
       "1345      70315.429265             5.878218                   6.486462   \n",
       "1323      80233.228301             5.334072                   7.034766   \n",
       "4240      87062.457410             6.698442                   6.945353   \n",
       "2889      69692.473326             4.614993                   6.377311   \n",
       "2140      69155.645814             6.550911                   7.392177   \n",
       "...                ...                  ...                        ...   \n",
       "1310      67051.250265             4.457760                   7.306146   \n",
       "3080      61482.978798             4.376969                   7.794518   \n",
       "950       53161.832390             4.879254                   8.678774   \n",
       "628       69312.981916             6.611320                   7.562437   \n",
       "4899      62491.558334             7.201999                   8.345120   \n",
       "\n",
       "      Avg. Area Number of Bedrooms  Area Population  \n",
       "1345                          4.33     49697.932786  \n",
       "1323                          5.30     26263.054963  \n",
       "4240                          2.31     15007.772864  \n",
       "2889                          4.27     41818.004910  \n",
       "2140                          4.31     40808.136206  \n",
       "...                            ...              ...  \n",
       "1310                          3.18     39735.704488  \n",
       "3080                          5.02     34993.841404  \n",
       "950                           4.07     30535.255600  \n",
       "628                           3.27     44237.121042  \n",
       "4899                          5.40     24677.901155  \n",
       "\n",
       "[3872 rows x 5 columns]"
      ]
     },
     "execution_count": 350,
     "metadata": {},
     "output_type": "execute_result"
    }
   ],
   "source": [
    "X_train"
   ]
  },
  {
   "cell_type": "code",
   "execution_count": 351,
   "id": "315a3e5f-6013-4dd0-a5d5-5d793024fbf5",
   "metadata": {
    "scrolled": true
   },
   "outputs": [
    {
     "data": {
      "text/html": [
       "<div>\n",
       "<style scoped>\n",
       "    .dataframe tbody tr th:only-of-type {\n",
       "        vertical-align: middle;\n",
       "    }\n",
       "\n",
       "    .dataframe tbody tr th {\n",
       "        vertical-align: top;\n",
       "    }\n",
       "\n",
       "    .dataframe thead th {\n",
       "        text-align: right;\n",
       "    }\n",
       "</style>\n",
       "<table border=\"1\" class=\"dataframe\">\n",
       "  <thead>\n",
       "    <tr style=\"text-align: right;\">\n",
       "      <th></th>\n",
       "      <th>Avg. Area Income</th>\n",
       "      <th>Avg. Area House Age</th>\n",
       "      <th>Avg. Area Number of Rooms</th>\n",
       "      <th>Avg. Area Number of Bedrooms</th>\n",
       "      <th>Area Population</th>\n",
       "    </tr>\n",
       "  </thead>\n",
       "  <tbody>\n",
       "    <tr>\n",
       "      <th>2436</th>\n",
       "      <td>55529.906584</td>\n",
       "      <td>6.821861</td>\n",
       "      <td>9.024792</td>\n",
       "      <td>4.05</td>\n",
       "      <td>45008.242240</td>\n",
       "    </tr>\n",
       "    <tr>\n",
       "      <th>3245</th>\n",
       "      <td>67196.125420</td>\n",
       "      <td>6.020039</td>\n",
       "      <td>8.624191</td>\n",
       "      <td>4.11</td>\n",
       "      <td>38417.980867</td>\n",
       "    </tr>\n",
       "    <tr>\n",
       "      <th>731</th>\n",
       "      <td>53676.372153</td>\n",
       "      <td>6.017915</td>\n",
       "      <td>6.709153</td>\n",
       "      <td>2.31</td>\n",
       "      <td>47027.062484</td>\n",
       "    </tr>\n",
       "    <tr>\n",
       "      <th>4444</th>\n",
       "      <td>54407.077850</td>\n",
       "      <td>6.402339</td>\n",
       "      <td>7.423948</td>\n",
       "      <td>3.30</td>\n",
       "      <td>36707.941633</td>\n",
       "    </tr>\n",
       "    <tr>\n",
       "      <th>3045</th>\n",
       "      <td>66225.904802</td>\n",
       "      <td>6.333789</td>\n",
       "      <td>6.476186</td>\n",
       "      <td>3.47</td>\n",
       "      <td>44384.519745</td>\n",
       "    </tr>\n",
       "    <tr>\n",
       "      <th>...</th>\n",
       "      <td>...</td>\n",
       "      <td>...</td>\n",
       "      <td>...</td>\n",
       "      <td>...</td>\n",
       "      <td>...</td>\n",
       "    </tr>\n",
       "    <tr>\n",
       "      <th>1125</th>\n",
       "      <td>78299.642483</td>\n",
       "      <td>6.876501</td>\n",
       "      <td>7.805954</td>\n",
       "      <td>3.37</td>\n",
       "      <td>39298.235519</td>\n",
       "    </tr>\n",
       "    <tr>\n",
       "      <th>3175</th>\n",
       "      <td>72314.853389</td>\n",
       "      <td>4.940391</td>\n",
       "      <td>7.692427</td>\n",
       "      <td>6.45</td>\n",
       "      <td>35998.319485</td>\n",
       "    </tr>\n",
       "    <tr>\n",
       "      <th>1036</th>\n",
       "      <td>72950.863536</td>\n",
       "      <td>5.320369</td>\n",
       "      <td>5.112099</td>\n",
       "      <td>4.27</td>\n",
       "      <td>38711.034658</td>\n",
       "    </tr>\n",
       "    <tr>\n",
       "      <th>2845</th>\n",
       "      <td>65739.686018</td>\n",
       "      <td>6.201099</td>\n",
       "      <td>6.722967</td>\n",
       "      <td>4.16</td>\n",
       "      <td>27721.393641</td>\n",
       "    </tr>\n",
       "    <tr>\n",
       "      <th>662</th>\n",
       "      <td>69333.682191</td>\n",
       "      <td>5.924392</td>\n",
       "      <td>6.542682</td>\n",
       "      <td>2.00</td>\n",
       "      <td>17187.118187</td>\n",
       "    </tr>\n",
       "  </tbody>\n",
       "</table>\n",
       "<p>969 rows × 5 columns</p>\n",
       "</div>"
      ],
      "text/plain": [
       "      Avg. Area Income  Avg. Area House Age  Avg. Area Number of Rooms  \\\n",
       "2436      55529.906584             6.821861                   9.024792   \n",
       "3245      67196.125420             6.020039                   8.624191   \n",
       "731       53676.372153             6.017915                   6.709153   \n",
       "4444      54407.077850             6.402339                   7.423948   \n",
       "3045      66225.904802             6.333789                   6.476186   \n",
       "...                ...                  ...                        ...   \n",
       "1125      78299.642483             6.876501                   7.805954   \n",
       "3175      72314.853389             4.940391                   7.692427   \n",
       "1036      72950.863536             5.320369                   5.112099   \n",
       "2845      65739.686018             6.201099                   6.722967   \n",
       "662       69333.682191             5.924392                   6.542682   \n",
       "\n",
       "      Avg. Area Number of Bedrooms  Area Population  \n",
       "2436                          4.05     45008.242240  \n",
       "3245                          4.11     38417.980867  \n",
       "731                           2.31     47027.062484  \n",
       "4444                          3.30     36707.941633  \n",
       "3045                          3.47     44384.519745  \n",
       "...                            ...              ...  \n",
       "1125                          3.37     39298.235519  \n",
       "3175                          6.45     35998.319485  \n",
       "1036                          4.27     38711.034658  \n",
       "2845                          4.16     27721.393641  \n",
       "662                           2.00     17187.118187  \n",
       "\n",
       "[969 rows x 5 columns]"
      ]
     },
     "execution_count": 351,
     "metadata": {},
     "output_type": "execute_result"
    }
   ],
   "source": [
    "X_test"
   ]
  },
  {
   "cell_type": "code",
   "execution_count": 352,
   "id": "c74f38e4-ed35-4b70-9664-5d210a52b858",
   "metadata": {},
   "outputs": [
    {
     "data": {
      "text/html": [
       "<div>\n",
       "<style scoped>\n",
       "    .dataframe tbody tr th:only-of-type {\n",
       "        vertical-align: middle;\n",
       "    }\n",
       "\n",
       "    .dataframe tbody tr th {\n",
       "        vertical-align: top;\n",
       "    }\n",
       "\n",
       "    .dataframe thead th {\n",
       "        text-align: right;\n",
       "    }\n",
       "</style>\n",
       "<table border=\"1\" class=\"dataframe\">\n",
       "  <thead>\n",
       "    <tr style=\"text-align: right;\">\n",
       "      <th></th>\n",
       "      <th>Price</th>\n",
       "    </tr>\n",
       "  </thead>\n",
       "  <tbody>\n",
       "    <tr>\n",
       "      <th>1345</th>\n",
       "      <td>1.385784e+06</td>\n",
       "    </tr>\n",
       "    <tr>\n",
       "      <th>1323</th>\n",
       "      <td>1.390498e+06</td>\n",
       "    </tr>\n",
       "    <tr>\n",
       "      <th>4240</th>\n",
       "      <td>1.442674e+06</td>\n",
       "    </tr>\n",
       "    <tr>\n",
       "      <th>2889</th>\n",
       "      <td>1.104701e+06</td>\n",
       "    </tr>\n",
       "    <tr>\n",
       "      <th>2140</th>\n",
       "      <td>1.457023e+06</td>\n",
       "    </tr>\n",
       "    <tr>\n",
       "      <th>...</th>\n",
       "      <td>...</td>\n",
       "    </tr>\n",
       "    <tr>\n",
       "      <th>1310</th>\n",
       "      <td>9.708256e+05</td>\n",
       "    </tr>\n",
       "    <tr>\n",
       "      <th>3080</th>\n",
       "      <td>1.000714e+06</td>\n",
       "    </tr>\n",
       "    <tr>\n",
       "      <th>950</th>\n",
       "      <td>7.258306e+05</td>\n",
       "    </tr>\n",
       "    <tr>\n",
       "      <th>628</th>\n",
       "      <td>1.501498e+06</td>\n",
       "    </tr>\n",
       "    <tr>\n",
       "      <th>4899</th>\n",
       "      <td>1.295918e+06</td>\n",
       "    </tr>\n",
       "  </tbody>\n",
       "</table>\n",
       "<p>3872 rows × 1 columns</p>\n",
       "</div>"
      ],
      "text/plain": [
       "             Price\n",
       "1345  1.385784e+06\n",
       "1323  1.390498e+06\n",
       "4240  1.442674e+06\n",
       "2889  1.104701e+06\n",
       "2140  1.457023e+06\n",
       "...            ...\n",
       "1310  9.708256e+05\n",
       "3080  1.000714e+06\n",
       "950   7.258306e+05\n",
       "628   1.501498e+06\n",
       "4899  1.295918e+06\n",
       "\n",
       "[3872 rows x 1 columns]"
      ]
     },
     "execution_count": 352,
     "metadata": {},
     "output_type": "execute_result"
    }
   ],
   "source": [
    "y_train"
   ]
  },
  {
   "cell_type": "code",
   "execution_count": 353,
   "id": "8846887c-eb54-470a-89e1-056cbf318bc7",
   "metadata": {},
   "outputs": [
    {
     "data": {
      "text/html": [
       "<div>\n",
       "<style scoped>\n",
       "    .dataframe tbody tr th:only-of-type {\n",
       "        vertical-align: middle;\n",
       "    }\n",
       "\n",
       "    .dataframe tbody tr th {\n",
       "        vertical-align: top;\n",
       "    }\n",
       "\n",
       "    .dataframe thead th {\n",
       "        text-align: right;\n",
       "    }\n",
       "</style>\n",
       "<table border=\"1\" class=\"dataframe\">\n",
       "  <thead>\n",
       "    <tr style=\"text-align: right;\">\n",
       "      <th></th>\n",
       "      <th>Price</th>\n",
       "    </tr>\n",
       "  </thead>\n",
       "  <tbody>\n",
       "    <tr>\n",
       "      <th>2436</th>\n",
       "      <td>1.460341e+06</td>\n",
       "    </tr>\n",
       "    <tr>\n",
       "      <th>3245</th>\n",
       "      <td>1.355546e+06</td>\n",
       "    </tr>\n",
       "    <tr>\n",
       "      <th>731</th>\n",
       "      <td>1.046443e+06</td>\n",
       "    </tr>\n",
       "    <tr>\n",
       "      <th>4444</th>\n",
       "      <td>1.139960e+06</td>\n",
       "    </tr>\n",
       "    <tr>\n",
       "      <th>3045</th>\n",
       "      <td>1.378270e+06</td>\n",
       "    </tr>\n",
       "    <tr>\n",
       "      <th>...</th>\n",
       "      <td>...</td>\n",
       "    </tr>\n",
       "    <tr>\n",
       "      <th>1125</th>\n",
       "      <td>1.676071e+06</td>\n",
       "    </tr>\n",
       "    <tr>\n",
       "      <th>3175</th>\n",
       "      <td>1.094792e+06</td>\n",
       "    </tr>\n",
       "    <tr>\n",
       "      <th>1036</th>\n",
       "      <td>9.874478e+05</td>\n",
       "    </tr>\n",
       "    <tr>\n",
       "      <th>2845</th>\n",
       "      <td>9.597348e+05</td>\n",
       "    </tr>\n",
       "    <tr>\n",
       "      <th>662</th>\n",
       "      <td>8.723122e+05</td>\n",
       "    </tr>\n",
       "  </tbody>\n",
       "</table>\n",
       "<p>969 rows × 1 columns</p>\n",
       "</div>"
      ],
      "text/plain": [
       "             Price\n",
       "2436  1.460341e+06\n",
       "3245  1.355546e+06\n",
       "731   1.046443e+06\n",
       "4444  1.139960e+06\n",
       "3045  1.378270e+06\n",
       "...            ...\n",
       "1125  1.676071e+06\n",
       "3175  1.094792e+06\n",
       "1036  9.874478e+05\n",
       "2845  9.597348e+05\n",
       "662   8.723122e+05\n",
       "\n",
       "[969 rows x 1 columns]"
      ]
     },
     "execution_count": 353,
     "metadata": {},
     "output_type": "execute_result"
    }
   ],
   "source": [
    "y_test"
   ]
  },
  {
   "cell_type": "markdown",
   "id": "b805cb1b-6685-41e9-b58a-2eeb373c5db9",
   "metadata": {},
   "source": [
    "MODEL TRAINING"
   ]
  },
  {
   "cell_type": "code",
   "execution_count": 354,
   "id": "77c0b852-99af-4b72-a923-12d8627be0b6",
   "metadata": {},
   "outputs": [
    {
     "data": {
      "text/plain": [
       "((3872, 5), (3872, 1))"
      ]
     },
     "execution_count": 354,
     "metadata": {},
     "output_type": "execute_result"
    }
   ],
   "source": [
    "X_train.shape,y_train.shape"
   ]
  },
  {
   "cell_type": "code",
   "execution_count": 355,
   "id": "a71c8287-61dd-4990-ac83-f62fe5d3d07b",
   "metadata": {},
   "outputs": [
    {
     "data": {
      "text/html": [
       "<style>#sk-container-id-2 {\n",
       "  /* Definition of color scheme common for light and dark mode */\n",
       "  --sklearn-color-text: black;\n",
       "  --sklearn-color-line: gray;\n",
       "  /* Definition of color scheme for unfitted estimators */\n",
       "  --sklearn-color-unfitted-level-0: #fff5e6;\n",
       "  --sklearn-color-unfitted-level-1: #f6e4d2;\n",
       "  --sklearn-color-unfitted-level-2: #ffe0b3;\n",
       "  --sklearn-color-unfitted-level-3: chocolate;\n",
       "  /* Definition of color scheme for fitted estimators */\n",
       "  --sklearn-color-fitted-level-0: #f0f8ff;\n",
       "  --sklearn-color-fitted-level-1: #d4ebff;\n",
       "  --sklearn-color-fitted-level-2: #b3dbfd;\n",
       "  --sklearn-color-fitted-level-3: cornflowerblue;\n",
       "\n",
       "  /* Specific color for light theme */\n",
       "  --sklearn-color-text-on-default-background: var(--sg-text-color, var(--theme-code-foreground, var(--jp-content-font-color1, black)));\n",
       "  --sklearn-color-background: var(--sg-background-color, var(--theme-background, var(--jp-layout-color0, white)));\n",
       "  --sklearn-color-border-box: var(--sg-text-color, var(--theme-code-foreground, var(--jp-content-font-color1, black)));\n",
       "  --sklearn-color-icon: #696969;\n",
       "\n",
       "  @media (prefers-color-scheme: dark) {\n",
       "    /* Redefinition of color scheme for dark theme */\n",
       "    --sklearn-color-text-on-default-background: var(--sg-text-color, var(--theme-code-foreground, var(--jp-content-font-color1, white)));\n",
       "    --sklearn-color-background: var(--sg-background-color, var(--theme-background, var(--jp-layout-color0, #111)));\n",
       "    --sklearn-color-border-box: var(--sg-text-color, var(--theme-code-foreground, var(--jp-content-font-color1, white)));\n",
       "    --sklearn-color-icon: #878787;\n",
       "  }\n",
       "}\n",
       "\n",
       "#sk-container-id-2 {\n",
       "  color: var(--sklearn-color-text);\n",
       "}\n",
       "\n",
       "#sk-container-id-2 pre {\n",
       "  padding: 0;\n",
       "}\n",
       "\n",
       "#sk-container-id-2 input.sk-hidden--visually {\n",
       "  border: 0;\n",
       "  clip: rect(1px 1px 1px 1px);\n",
       "  clip: rect(1px, 1px, 1px, 1px);\n",
       "  height: 1px;\n",
       "  margin: -1px;\n",
       "  overflow: hidden;\n",
       "  padding: 0;\n",
       "  position: absolute;\n",
       "  width: 1px;\n",
       "}\n",
       "\n",
       "#sk-container-id-2 div.sk-dashed-wrapped {\n",
       "  border: 1px dashed var(--sklearn-color-line);\n",
       "  margin: 0 0.4em 0.5em 0.4em;\n",
       "  box-sizing: border-box;\n",
       "  padding-bottom: 0.4em;\n",
       "  background-color: var(--sklearn-color-background);\n",
       "}\n",
       "\n",
       "#sk-container-id-2 div.sk-container {\n",
       "  /* jupyter's `normalize.less` sets `[hidden] { display: none; }`\n",
       "     but bootstrap.min.css set `[hidden] { display: none !important; }`\n",
       "     so we also need the `!important` here to be able to override the\n",
       "     default hidden behavior on the sphinx rendered scikit-learn.org.\n",
       "     See: https://github.com/scikit-learn/scikit-learn/issues/21755 */\n",
       "  display: inline-block !important;\n",
       "  position: relative;\n",
       "}\n",
       "\n",
       "#sk-container-id-2 div.sk-text-repr-fallback {\n",
       "  display: none;\n",
       "}\n",
       "\n",
       "div.sk-parallel-item,\n",
       "div.sk-serial,\n",
       "div.sk-item {\n",
       "  /* draw centered vertical line to link estimators */\n",
       "  background-image: linear-gradient(var(--sklearn-color-text-on-default-background), var(--sklearn-color-text-on-default-background));\n",
       "  background-size: 2px 100%;\n",
       "  background-repeat: no-repeat;\n",
       "  background-position: center center;\n",
       "}\n",
       "\n",
       "/* Parallel-specific style estimator block */\n",
       "\n",
       "#sk-container-id-2 div.sk-parallel-item::after {\n",
       "  content: \"\";\n",
       "  width: 100%;\n",
       "  border-bottom: 2px solid var(--sklearn-color-text-on-default-background);\n",
       "  flex-grow: 1;\n",
       "}\n",
       "\n",
       "#sk-container-id-2 div.sk-parallel {\n",
       "  display: flex;\n",
       "  align-items: stretch;\n",
       "  justify-content: center;\n",
       "  background-color: var(--sklearn-color-background);\n",
       "  position: relative;\n",
       "}\n",
       "\n",
       "#sk-container-id-2 div.sk-parallel-item {\n",
       "  display: flex;\n",
       "  flex-direction: column;\n",
       "}\n",
       "\n",
       "#sk-container-id-2 div.sk-parallel-item:first-child::after {\n",
       "  align-self: flex-end;\n",
       "  width: 50%;\n",
       "}\n",
       "\n",
       "#sk-container-id-2 div.sk-parallel-item:last-child::after {\n",
       "  align-self: flex-start;\n",
       "  width: 50%;\n",
       "}\n",
       "\n",
       "#sk-container-id-2 div.sk-parallel-item:only-child::after {\n",
       "  width: 0;\n",
       "}\n",
       "\n",
       "/* Serial-specific style estimator block */\n",
       "\n",
       "#sk-container-id-2 div.sk-serial {\n",
       "  display: flex;\n",
       "  flex-direction: column;\n",
       "  align-items: center;\n",
       "  background-color: var(--sklearn-color-background);\n",
       "  padding-right: 1em;\n",
       "  padding-left: 1em;\n",
       "}\n",
       "\n",
       "\n",
       "/* Toggleable style: style used for estimator/Pipeline/ColumnTransformer box that is\n",
       "clickable and can be expanded/collapsed.\n",
       "- Pipeline and ColumnTransformer use this feature and define the default style\n",
       "- Estimators will overwrite some part of the style using the `sk-estimator` class\n",
       "*/\n",
       "\n",
       "/* Pipeline and ColumnTransformer style (default) */\n",
       "\n",
       "#sk-container-id-2 div.sk-toggleable {\n",
       "  /* Default theme specific background. It is overwritten whether we have a\n",
       "  specific estimator or a Pipeline/ColumnTransformer */\n",
       "  background-color: var(--sklearn-color-background);\n",
       "}\n",
       "\n",
       "/* Toggleable label */\n",
       "#sk-container-id-2 label.sk-toggleable__label {\n",
       "  cursor: pointer;\n",
       "  display: block;\n",
       "  width: 100%;\n",
       "  margin-bottom: 0;\n",
       "  padding: 0.5em;\n",
       "  box-sizing: border-box;\n",
       "  text-align: center;\n",
       "}\n",
       "\n",
       "#sk-container-id-2 label.sk-toggleable__label-arrow:before {\n",
       "  /* Arrow on the left of the label */\n",
       "  content: \"▸\";\n",
       "  float: left;\n",
       "  margin-right: 0.25em;\n",
       "  color: var(--sklearn-color-icon);\n",
       "}\n",
       "\n",
       "#sk-container-id-2 label.sk-toggleable__label-arrow:hover:before {\n",
       "  color: var(--sklearn-color-text);\n",
       "}\n",
       "\n",
       "/* Toggleable content - dropdown */\n",
       "\n",
       "#sk-container-id-2 div.sk-toggleable__content {\n",
       "  max-height: 0;\n",
       "  max-width: 0;\n",
       "  overflow: hidden;\n",
       "  text-align: left;\n",
       "  /* unfitted */\n",
       "  background-color: var(--sklearn-color-unfitted-level-0);\n",
       "}\n",
       "\n",
       "#sk-container-id-2 div.sk-toggleable__content.fitted {\n",
       "  /* fitted */\n",
       "  background-color: var(--sklearn-color-fitted-level-0);\n",
       "}\n",
       "\n",
       "#sk-container-id-2 div.sk-toggleable__content pre {\n",
       "  margin: 0.2em;\n",
       "  border-radius: 0.25em;\n",
       "  color: var(--sklearn-color-text);\n",
       "  /* unfitted */\n",
       "  background-color: var(--sklearn-color-unfitted-level-0);\n",
       "}\n",
       "\n",
       "#sk-container-id-2 div.sk-toggleable__content.fitted pre {\n",
       "  /* unfitted */\n",
       "  background-color: var(--sklearn-color-fitted-level-0);\n",
       "}\n",
       "\n",
       "#sk-container-id-2 input.sk-toggleable__control:checked~div.sk-toggleable__content {\n",
       "  /* Expand drop-down */\n",
       "  max-height: 200px;\n",
       "  max-width: 100%;\n",
       "  overflow: auto;\n",
       "}\n",
       "\n",
       "#sk-container-id-2 input.sk-toggleable__control:checked~label.sk-toggleable__label-arrow:before {\n",
       "  content: \"▾\";\n",
       "}\n",
       "\n",
       "/* Pipeline/ColumnTransformer-specific style */\n",
       "\n",
       "#sk-container-id-2 div.sk-label input.sk-toggleable__control:checked~label.sk-toggleable__label {\n",
       "  color: var(--sklearn-color-text);\n",
       "  background-color: var(--sklearn-color-unfitted-level-2);\n",
       "}\n",
       "\n",
       "#sk-container-id-2 div.sk-label.fitted input.sk-toggleable__control:checked~label.sk-toggleable__label {\n",
       "  background-color: var(--sklearn-color-fitted-level-2);\n",
       "}\n",
       "\n",
       "/* Estimator-specific style */\n",
       "\n",
       "/* Colorize estimator box */\n",
       "#sk-container-id-2 div.sk-estimator input.sk-toggleable__control:checked~label.sk-toggleable__label {\n",
       "  /* unfitted */\n",
       "  background-color: var(--sklearn-color-unfitted-level-2);\n",
       "}\n",
       "\n",
       "#sk-container-id-2 div.sk-estimator.fitted input.sk-toggleable__control:checked~label.sk-toggleable__label {\n",
       "  /* fitted */\n",
       "  background-color: var(--sklearn-color-fitted-level-2);\n",
       "}\n",
       "\n",
       "#sk-container-id-2 div.sk-label label.sk-toggleable__label,\n",
       "#sk-container-id-2 div.sk-label label {\n",
       "  /* The background is the default theme color */\n",
       "  color: var(--sklearn-color-text-on-default-background);\n",
       "}\n",
       "\n",
       "/* On hover, darken the color of the background */\n",
       "#sk-container-id-2 div.sk-label:hover label.sk-toggleable__label {\n",
       "  color: var(--sklearn-color-text);\n",
       "  background-color: var(--sklearn-color-unfitted-level-2);\n",
       "}\n",
       "\n",
       "/* Label box, darken color on hover, fitted */\n",
       "#sk-container-id-2 div.sk-label.fitted:hover label.sk-toggleable__label.fitted {\n",
       "  color: var(--sklearn-color-text);\n",
       "  background-color: var(--sklearn-color-fitted-level-2);\n",
       "}\n",
       "\n",
       "/* Estimator label */\n",
       "\n",
       "#sk-container-id-2 div.sk-label label {\n",
       "  font-family: monospace;\n",
       "  font-weight: bold;\n",
       "  display: inline-block;\n",
       "  line-height: 1.2em;\n",
       "}\n",
       "\n",
       "#sk-container-id-2 div.sk-label-container {\n",
       "  text-align: center;\n",
       "}\n",
       "\n",
       "/* Estimator-specific */\n",
       "#sk-container-id-2 div.sk-estimator {\n",
       "  font-family: monospace;\n",
       "  border: 1px dotted var(--sklearn-color-border-box);\n",
       "  border-radius: 0.25em;\n",
       "  box-sizing: border-box;\n",
       "  margin-bottom: 0.5em;\n",
       "  /* unfitted */\n",
       "  background-color: var(--sklearn-color-unfitted-level-0);\n",
       "}\n",
       "\n",
       "#sk-container-id-2 div.sk-estimator.fitted {\n",
       "  /* fitted */\n",
       "  background-color: var(--sklearn-color-fitted-level-0);\n",
       "}\n",
       "\n",
       "/* on hover */\n",
       "#sk-container-id-2 div.sk-estimator:hover {\n",
       "  /* unfitted */\n",
       "  background-color: var(--sklearn-color-unfitted-level-2);\n",
       "}\n",
       "\n",
       "#sk-container-id-2 div.sk-estimator.fitted:hover {\n",
       "  /* fitted */\n",
       "  background-color: var(--sklearn-color-fitted-level-2);\n",
       "}\n",
       "\n",
       "/* Specification for estimator info (e.g. \"i\" and \"?\") */\n",
       "\n",
       "/* Common style for \"i\" and \"?\" */\n",
       "\n",
       ".sk-estimator-doc-link,\n",
       "a:link.sk-estimator-doc-link,\n",
       "a:visited.sk-estimator-doc-link {\n",
       "  float: right;\n",
       "  font-size: smaller;\n",
       "  line-height: 1em;\n",
       "  font-family: monospace;\n",
       "  background-color: var(--sklearn-color-background);\n",
       "  border-radius: 1em;\n",
       "  height: 1em;\n",
       "  width: 1em;\n",
       "  text-decoration: none !important;\n",
       "  margin-left: 1ex;\n",
       "  /* unfitted */\n",
       "  border: var(--sklearn-color-unfitted-level-1) 1pt solid;\n",
       "  color: var(--sklearn-color-unfitted-level-1);\n",
       "}\n",
       "\n",
       ".sk-estimator-doc-link.fitted,\n",
       "a:link.sk-estimator-doc-link.fitted,\n",
       "a:visited.sk-estimator-doc-link.fitted {\n",
       "  /* fitted */\n",
       "  border: var(--sklearn-color-fitted-level-1) 1pt solid;\n",
       "  color: var(--sklearn-color-fitted-level-1);\n",
       "}\n",
       "\n",
       "/* On hover */\n",
       "div.sk-estimator:hover .sk-estimator-doc-link:hover,\n",
       ".sk-estimator-doc-link:hover,\n",
       "div.sk-label-container:hover .sk-estimator-doc-link:hover,\n",
       ".sk-estimator-doc-link:hover {\n",
       "  /* unfitted */\n",
       "  background-color: var(--sklearn-color-unfitted-level-3);\n",
       "  color: var(--sklearn-color-background);\n",
       "  text-decoration: none;\n",
       "}\n",
       "\n",
       "div.sk-estimator.fitted:hover .sk-estimator-doc-link.fitted:hover,\n",
       ".sk-estimator-doc-link.fitted:hover,\n",
       "div.sk-label-container:hover .sk-estimator-doc-link.fitted:hover,\n",
       ".sk-estimator-doc-link.fitted:hover {\n",
       "  /* fitted */\n",
       "  background-color: var(--sklearn-color-fitted-level-3);\n",
       "  color: var(--sklearn-color-background);\n",
       "  text-decoration: none;\n",
       "}\n",
       "\n",
       "/* Span, style for the box shown on hovering the info icon */\n",
       ".sk-estimator-doc-link span {\n",
       "  display: none;\n",
       "  z-index: 9999;\n",
       "  position: relative;\n",
       "  font-weight: normal;\n",
       "  right: .2ex;\n",
       "  padding: .5ex;\n",
       "  margin: .5ex;\n",
       "  width: min-content;\n",
       "  min-width: 20ex;\n",
       "  max-width: 50ex;\n",
       "  color: var(--sklearn-color-text);\n",
       "  box-shadow: 2pt 2pt 4pt #999;\n",
       "  /* unfitted */\n",
       "  background: var(--sklearn-color-unfitted-level-0);\n",
       "  border: .5pt solid var(--sklearn-color-unfitted-level-3);\n",
       "}\n",
       "\n",
       ".sk-estimator-doc-link.fitted span {\n",
       "  /* fitted */\n",
       "  background: var(--sklearn-color-fitted-level-0);\n",
       "  border: var(--sklearn-color-fitted-level-3);\n",
       "}\n",
       "\n",
       ".sk-estimator-doc-link:hover span {\n",
       "  display: block;\n",
       "}\n",
       "\n",
       "/* \"?\"-specific style due to the `<a>` HTML tag */\n",
       "\n",
       "#sk-container-id-2 a.estimator_doc_link {\n",
       "  float: right;\n",
       "  font-size: 1rem;\n",
       "  line-height: 1em;\n",
       "  font-family: monospace;\n",
       "  background-color: var(--sklearn-color-background);\n",
       "  border-radius: 1rem;\n",
       "  height: 1rem;\n",
       "  width: 1rem;\n",
       "  text-decoration: none;\n",
       "  /* unfitted */\n",
       "  color: var(--sklearn-color-unfitted-level-1);\n",
       "  border: var(--sklearn-color-unfitted-level-1) 1pt solid;\n",
       "}\n",
       "\n",
       "#sk-container-id-2 a.estimator_doc_link.fitted {\n",
       "  /* fitted */\n",
       "  border: var(--sklearn-color-fitted-level-1) 1pt solid;\n",
       "  color: var(--sklearn-color-fitted-level-1);\n",
       "}\n",
       "\n",
       "/* On hover */\n",
       "#sk-container-id-2 a.estimator_doc_link:hover {\n",
       "  /* unfitted */\n",
       "  background-color: var(--sklearn-color-unfitted-level-3);\n",
       "  color: var(--sklearn-color-background);\n",
       "  text-decoration: none;\n",
       "}\n",
       "\n",
       "#sk-container-id-2 a.estimator_doc_link.fitted:hover {\n",
       "  /* fitted */\n",
       "  background-color: var(--sklearn-color-fitted-level-3);\n",
       "}\n",
       "</style><div id=\"sk-container-id-2\" class=\"sk-top-container\"><div class=\"sk-text-repr-fallback\"><pre>LinearRegression()</pre><b>In a Jupyter environment, please rerun this cell to show the HTML representation or trust the notebook. <br />On GitHub, the HTML representation is unable to render, please try loading this page with nbviewer.org.</b></div><div class=\"sk-container\" hidden><div class=\"sk-item\"><div class=\"sk-estimator fitted sk-toggleable\"><input class=\"sk-toggleable__control sk-hidden--visually\" id=\"sk-estimator-id-2\" type=\"checkbox\" checked><label for=\"sk-estimator-id-2\" class=\"sk-toggleable__label fitted sk-toggleable__label-arrow fitted\">&nbsp;&nbsp;LinearRegression<a class=\"sk-estimator-doc-link fitted\" rel=\"noreferrer\" target=\"_blank\" href=\"https://scikit-learn.org/1.4/modules/generated/sklearn.linear_model.LinearRegression.html\">?<span>Documentation for LinearRegression</span></a><span class=\"sk-estimator-doc-link fitted\">i<span>Fitted</span></span></label><div class=\"sk-toggleable__content fitted\"><pre>LinearRegression()</pre></div> </div></div></div></div>"
      ],
      "text/plain": [
       "LinearRegression()"
      ]
     },
     "execution_count": 355,
     "metadata": {},
     "output_type": "execute_result"
    }
   ],
   "source": [
    "model=LinearRegression()\n",
    "model.fit(X_train, y_train)"
   ]
  },
  {
   "cell_type": "code",
   "execution_count": 356,
   "id": "10d30ef8-67d7-4d5f-b32b-737d39c7e79a",
   "metadata": {},
   "outputs": [],
   "source": [
    "y_pred_train=model.predict(X_train)\n",
    "y_pred_test=model.predict(X_test)"
   ]
  },
  {
   "cell_type": "code",
   "execution_count": 357,
   "id": "15e4dc3a-f41b-4f5c-9a1b-e9bef682b9c9",
   "metadata": {},
   "outputs": [
    {
     "data": {
      "text/html": [
       "<div>\n",
       "<style scoped>\n",
       "    .dataframe tbody tr th:only-of-type {\n",
       "        vertical-align: middle;\n",
       "    }\n",
       "\n",
       "    .dataframe tbody tr th {\n",
       "        vertical-align: top;\n",
       "    }\n",
       "\n",
       "    .dataframe thead th {\n",
       "        text-align: right;\n",
       "    }\n",
       "</style>\n",
       "<table border=\"1\" class=\"dataframe\">\n",
       "  <thead>\n",
       "    <tr style=\"text-align: right;\">\n",
       "      <th></th>\n",
       "      <th>Avg. Area Income</th>\n",
       "      <th>Avg. Area House Age</th>\n",
       "      <th>Avg. Area Number of Rooms</th>\n",
       "      <th>Avg. Area Number of Bedrooms</th>\n",
       "      <th>Area Population</th>\n",
       "    </tr>\n",
       "  </thead>\n",
       "  <tbody>\n",
       "    <tr>\n",
       "      <th>1345</th>\n",
       "      <td>70315.429265</td>\n",
       "      <td>5.878218</td>\n",
       "      <td>6.486462</td>\n",
       "      <td>4.33</td>\n",
       "      <td>49697.932786</td>\n",
       "    </tr>\n",
       "    <tr>\n",
       "      <th>1323</th>\n",
       "      <td>80233.228301</td>\n",
       "      <td>5.334072</td>\n",
       "      <td>7.034766</td>\n",
       "      <td>5.30</td>\n",
       "      <td>26263.054963</td>\n",
       "    </tr>\n",
       "    <tr>\n",
       "      <th>4240</th>\n",
       "      <td>87062.457410</td>\n",
       "      <td>6.698442</td>\n",
       "      <td>6.945353</td>\n",
       "      <td>2.31</td>\n",
       "      <td>15007.772864</td>\n",
       "    </tr>\n",
       "    <tr>\n",
       "      <th>2889</th>\n",
       "      <td>69692.473326</td>\n",
       "      <td>4.614993</td>\n",
       "      <td>6.377311</td>\n",
       "      <td>4.27</td>\n",
       "      <td>41818.004910</td>\n",
       "    </tr>\n",
       "    <tr>\n",
       "      <th>2140</th>\n",
       "      <td>69155.645814</td>\n",
       "      <td>6.550911</td>\n",
       "      <td>7.392177</td>\n",
       "      <td>4.31</td>\n",
       "      <td>40808.136206</td>\n",
       "    </tr>\n",
       "  </tbody>\n",
       "</table>\n",
       "</div>"
      ],
      "text/plain": [
       "      Avg. Area Income  Avg. Area House Age  Avg. Area Number of Rooms  \\\n",
       "1345      70315.429265             5.878218                   6.486462   \n",
       "1323      80233.228301             5.334072                   7.034766   \n",
       "4240      87062.457410             6.698442                   6.945353   \n",
       "2889      69692.473326             4.614993                   6.377311   \n",
       "2140      69155.645814             6.550911                   7.392177   \n",
       "\n",
       "      Avg. Area Number of Bedrooms  Area Population  \n",
       "1345                          4.33     49697.932786  \n",
       "1323                          5.30     26263.054963  \n",
       "4240                          2.31     15007.772864  \n",
       "2889                          4.27     41818.004910  \n",
       "2140                          4.31     40808.136206  "
      ]
     },
     "execution_count": 357,
     "metadata": {},
     "output_type": "execute_result"
    }
   ],
   "source": [
    "X_train.head()"
   ]
  },
  {
   "cell_type": "code",
   "execution_count": 358,
   "id": "43a56dd6-70da-470c-8a92-99179e79aa62",
   "metadata": {},
   "outputs": [
    {
     "data": {
      "text/html": [
       "<div>\n",
       "<style scoped>\n",
       "    .dataframe tbody tr th:only-of-type {\n",
       "        vertical-align: middle;\n",
       "    }\n",
       "\n",
       "    .dataframe tbody tr th {\n",
       "        vertical-align: top;\n",
       "    }\n",
       "\n",
       "    .dataframe thead th {\n",
       "        text-align: right;\n",
       "    }\n",
       "</style>\n",
       "<table border=\"1\" class=\"dataframe\">\n",
       "  <thead>\n",
       "    <tr style=\"text-align: right;\">\n",
       "      <th></th>\n",
       "      <th>Price</th>\n",
       "    </tr>\n",
       "  </thead>\n",
       "  <tbody>\n",
       "    <tr>\n",
       "      <th>1345</th>\n",
       "      <td>1.385784e+06</td>\n",
       "    </tr>\n",
       "    <tr>\n",
       "      <th>1323</th>\n",
       "      <td>1.390498e+06</td>\n",
       "    </tr>\n",
       "    <tr>\n",
       "      <th>4240</th>\n",
       "      <td>1.442674e+06</td>\n",
       "    </tr>\n",
       "    <tr>\n",
       "      <th>2889</th>\n",
       "      <td>1.104701e+06</td>\n",
       "    </tr>\n",
       "    <tr>\n",
       "      <th>2140</th>\n",
       "      <td>1.457023e+06</td>\n",
       "    </tr>\n",
       "  </tbody>\n",
       "</table>\n",
       "</div>"
      ],
      "text/plain": [
       "             Price\n",
       "1345  1.385784e+06\n",
       "1323  1.390498e+06\n",
       "4240  1.442674e+06\n",
       "2889  1.104701e+06\n",
       "2140  1.457023e+06"
      ]
     },
     "execution_count": 358,
     "metadata": {},
     "output_type": "execute_result"
    }
   ],
   "source": [
    "y_train.head()"
   ]
  },
  {
   "cell_type": "code",
   "execution_count": 359,
   "id": "631b715d-7edc-49c5-b86e-047259f74f2c",
   "metadata": {},
   "outputs": [
    {
     "data": {
      "text/plain": [
       "array([[1396210.98165584],\n",
       "       [1236613.84623272],\n",
       "       [1426505.79579295],\n",
       "       [1041194.91343028],\n",
       "       [1457950.75233905]])"
      ]
     },
     "execution_count": 359,
     "metadata": {},
     "output_type": "execute_result"
    }
   ],
   "source": [
    "y_pred_train[:5]"
   ]
  },
  {
   "cell_type": "code",
   "execution_count": 360,
   "id": "79e0a298-312e-4368-a93f-348575352a56",
   "metadata": {},
   "outputs": [
    {
     "data": {
      "text/html": [
       "<div>\n",
       "<style scoped>\n",
       "    .dataframe tbody tr th:only-of-type {\n",
       "        vertical-align: middle;\n",
       "    }\n",
       "\n",
       "    .dataframe tbody tr th {\n",
       "        vertical-align: top;\n",
       "    }\n",
       "\n",
       "    .dataframe thead th {\n",
       "        text-align: right;\n",
       "    }\n",
       "</style>\n",
       "<table border=\"1\" class=\"dataframe\">\n",
       "  <thead>\n",
       "    <tr style=\"text-align: right;\">\n",
       "      <th></th>\n",
       "      <th>Price</th>\n",
       "    </tr>\n",
       "  </thead>\n",
       "  <tbody>\n",
       "    <tr>\n",
       "      <th>2436</th>\n",
       "      <td>1.460341e+06</td>\n",
       "    </tr>\n",
       "    <tr>\n",
       "      <th>3245</th>\n",
       "      <td>1.355546e+06</td>\n",
       "    </tr>\n",
       "    <tr>\n",
       "      <th>731</th>\n",
       "      <td>1.046443e+06</td>\n",
       "    </tr>\n",
       "    <tr>\n",
       "      <th>4444</th>\n",
       "      <td>1.139960e+06</td>\n",
       "    </tr>\n",
       "    <tr>\n",
       "      <th>3045</th>\n",
       "      <td>1.378270e+06</td>\n",
       "    </tr>\n",
       "  </tbody>\n",
       "</table>\n",
       "</div>"
      ],
      "text/plain": [
       "             Price\n",
       "2436  1.460341e+06\n",
       "3245  1.355546e+06\n",
       "731   1.046443e+06\n",
       "4444  1.139960e+06\n",
       "3045  1.378270e+06"
      ]
     },
     "execution_count": 360,
     "metadata": {},
     "output_type": "execute_result"
    }
   ],
   "source": [
    "y_test.head()"
   ]
  },
  {
   "cell_type": "code",
   "execution_count": 361,
   "id": "862c45ee-a1ba-4e50-bd93-569affad476b",
   "metadata": {},
   "outputs": [
    {
     "data": {
      "text/plain": [
       "array([[1465219.68839319],\n",
       "       [1437923.11497142],\n",
       "       [1041753.58366848],\n",
       "       [1054224.68460255],\n",
       "       [1300992.98647077]])"
      ]
     },
     "execution_count": 361,
     "metadata": {},
     "output_type": "execute_result"
    }
   ],
   "source": [
    "y_pred_test[:5]"
   ]
  },
  {
   "cell_type": "code",
   "execution_count": 362,
   "id": "d187cd75-64ec-4e7e-b9a2-fca1383f4aec",
   "metadata": {},
   "outputs": [
    {
     "data": {
      "text/plain": [
       "array([[2.16541044e+01, 1.66505892e+05, 1.19315233e+05, 1.96604593e+03,\n",
       "        1.49812061e+01]])"
      ]
     },
     "execution_count": 362,
     "metadata": {},
     "output_type": "execute_result"
    }
   ],
   "source": [
    "model.coef_"
   ]
  },
  {
   "cell_type": "code",
   "execution_count": 363,
   "id": "e8720db5-c96a-476c-89f0-c3aab48fc499",
   "metadata": {},
   "outputs": [
    {
     "data": {
      "text/plain": [
       "Index(['Avg. Area Income', 'Avg. Area House Age', 'Avg. Area Number of Rooms',\n",
       "       'Avg. Area Number of Bedrooms', 'Area Population'],\n",
       "      dtype='object')"
      ]
     },
     "execution_count": 363,
     "metadata": {},
     "output_type": "execute_result"
    }
   ],
   "source": [
    "X.columns"
   ]
  },
  {
   "cell_type": "markdown",
   "id": "91a99f9f-3df1-4551-bfe2-695a1ddf2e17",
   "metadata": {},
   "source": [
    "MODEL EVALUATION"
   ]
  },
  {
   "cell_type": "code",
   "execution_count": 364,
   "id": "946d0b7d-7274-45c4-ba3c-1208e5f2b41f",
   "metadata": {},
   "outputs": [],
   "source": [
    "#FOR TRAINING DATA"
   ]
  },
  {
   "cell_type": "code",
   "execution_count": 365,
   "id": "53e8c2b7-8f26-418b-bfa1-cd5a4d555af7",
   "metadata": {},
   "outputs": [],
   "source": [
    "def training_evaluation(actual, predicted):\n",
    "    \n",
    "    mse = mean_squared_error(actual, predicted)\n",
    "    rmse = np.sqrt(mean_squared_error(actual, predicted))    \n",
    "    mae = mean_absolute_error(actual, predicted)\n",
    "    r2 =  r2_score(actual, predicted)\n",
    "    \n",
    "    \n",
    "    print(f'MSE: {mse}')\n",
    "    print(f'RMSE: {rmse}')    \n",
    "    print(f'MAE: {mae}')\n",
    "    print(f'R2 Score: {r2}')    \n",
    "    print('\\n')\n",
    "    \n",
    "    \n",
    "    plt.scatter(actual, predicted, color='m', label='Actual Price')\n",
    "    plt.plot([actual.min(), actual.max()], [actual.min(), actual.max()], \n",
    "             color='k', linestyle='dashed', lw = 3, label='Predicted Price')\n",
    "    plt.title('Scatter Plot on Training Data')\n",
    "    plt.xlabel('Actual Price')\n",
    "    plt.ylabel('Predicted Price')\n",
    "    plt.legend()"
   ]
  },
  {
   "cell_type": "code",
   "execution_count": 366,
   "id": "b01daccf-ba1f-4a07-a6b8-798ddc5ad210",
   "metadata": {},
   "outputs": [
    {
     "name": "stdout",
     "output_type": "stream",
     "text": [
      "MSE: 10355243478.51038\n",
      "RMSE: 101760.71677474752\n",
      "MAE: 81769.29740142662\n",
      "R2 Score: 0.9130327408717333\n",
      "\n",
      "\n"
     ]
    },
    {
     "data": {
      "image/png": "[encoded data removed]",
      "text/plain": [
       "<Figure size 1200x800 with 1 Axes>"
      ]
     },
     "metadata": {},
     "output_type": "display_data"
    }
   ],
   "source": [
    "training_evaluation(y_train, y_pred_train)"
   ]
  },
  {
   "cell_type": "code",
   "execution_count": 367,
   "id": "f2ac9f2e-050d-4ef2-8f3a-c91caa01ab71",
   "metadata": {},
   "outputs": [],
   "source": [
    "#FOR TEST DATA"
   ]
  },
  {
   "cell_type": "code",
   "execution_count": 368,
   "id": "d7b0dede-4eb4-4f11-a4be-a4e632fad706",
   "metadata": {},
   "outputs": [],
   "source": [
    "def test_evaluation(actual, predicted):\n",
    "    \n",
    "    mse = mean_squared_error(actual, predicted)\n",
    "    rmse = np.sqrt(mean_squared_error(actual, predicted))    \n",
    "    mae = mean_absolute_error(actual, predicted)\n",
    "    r2 =  r2_score(actual, predicted)\n",
    "    \n",
    "    \n",
    "    print(f'MSE: {mse}')\n",
    "    print(f'RMSE: {rmse}')    \n",
    "    print(f'MAE: {mae}')\n",
    "    print(f'R2 Score: {r2}')    \n",
    "    print('\\n')\n",
    "    \n",
    "    \n",
    "    plt.scatter(actual, predicted, color='m', label='Actual Price')\n",
    "    plt.plot([actual.min(), actual.max()], [actual.min(), actual.max()], \n",
    "             color='k', linestyle='dashed', lw = 3, label='Predicted Price')\n",
    "    plt.title('Scatter Plot on Training Data')\n",
    "    plt.xlabel('Actual Price')\n",
    "    plt.ylabel('Predicted Price')\n",
    "    plt.legend()\n",
    "    plt.grid()"
   ]
  },
  {
   "cell_type": "code",
   "execution_count": 369,
   "id": "f2f3352b-c889-4bb0-8483-d36355e17c3f",
   "metadata": {},
   "outputs": [
    {
     "name": "stdout",
     "output_type": "stream",
     "text": [
      "MSE: 9542801978.105497\n",
      "RMSE: 97687.2662024355\n",
      "MAE: 79080.67352476912\n",
      "R2 Score: 0.9132191795707956\n",
      "\n",
      "\n"
     ]
    },
    {
     "data": {
      "image/png": "[encoded data removed]",
      "text/plain": [
       "<Figure size 1200x800 with 1 Axes>"
      ]
     },
     "metadata": {},
     "output_type": "display_data"
    }
   ],
   "source": [
    "test_evaluation(y_test, y_pred_test)"
   ]
  },
  {
   "cell_type": "code",
   "execution_count": null,
   "id": "b7fc0087-6b8b-4a39-8d7e-40fdd580b918",
   "metadata": {},
   "outputs": [],
   "source": []
  }
 ],
 "metadata": {
  "kernelspec": {
   "display_name": "Python 3 (ipykernel)",
   "language": "python",
   "name": "python3"
  },
  "language_info": {
   "codemirror_mode": {
    "name": "ipython",
    "version": 3
   },
   "file_extension": ".py",
   "mimetype": "text/x-python",
   "name": "python",
   "nbconvert_exporter": "python",
   "pygments_lexer": "ipython3",
   "version": "3.12.3"
  }
 },
 "nbformat": 4,
 "nbformat_minor": 5
}
